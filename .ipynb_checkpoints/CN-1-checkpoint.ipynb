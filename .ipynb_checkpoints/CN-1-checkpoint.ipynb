{
 "cells": [
  {
   "cell_type": "markdown",
   "metadata": {},
   "source": [
    "<h1 style=\"color: navy; text-align:center\">Representação por ponto fixo</h1> \n",
    "<p style=\"text-align:center\">delimita o número de casas decimais</p> \n",
    "\n",
    "<h1 style=\"color: navy; text-align:center\">Representação por ponto flutuante</h1> \n",
    "<p style=\"text-align:center\">delimita o número de algarismos significativos</p> \n"
   ]
  },
  {
   "cell_type": "markdown",
   "metadata": {},
   "source": [
    "<h1 style=\"color: navy; text-align:center\">Erro</h1> "
   ]
  },
  {
   "cell_type": "markdown",
   "metadata": {},
   "source": [
    " \\begin{equation*}\n",
    "a = ã + ε \n",
    " \\end{equation*}\n"
   ]
  },
  {
   "cell_type": "markdown",
   "metadata": {},
   "source": [
    " \\begin{equation*}\n",
    " \\sqrt{2} = 1,4142 + 0,0000135\n",
    " \\end{equation*}\n"
   ]
  },
  {
   "cell_type": "markdown",
   "metadata": {},
   "source": [
    "a = Valor verdadeiro da medida\n",
    "\n",
    "ã = valor aproximado da medida\n",
    "\n",
    "ε = Erro"
   ]
  },
  {
   "cell_type": "markdown",
   "metadata": {},
   "source": [
    "<h1 style=\"color: navy; text-align:center\">Erro relativo</h1> "
   ]
  },
  {
   "cell_type": "markdown",
   "metadata": {},
   "source": [
    " \\begin{equation*}\n",
    "|εr| = \\fracβã\n",
    " \\end{equation*}"
   ]
  },
  {
   "cell_type": "markdown",
   "metadata": {},
   "source": [
    "**εr = Erro relativo**\n",
    "\n",
    "β = Limitante do Erro (erro maximo): parametro do metodo\n",
    "\n",
    "ã = valor aproximado"
   ]
  },
  {
   "cell_type": "markdown",
   "metadata": {},
   "source": [
    "---"
   ]
  },
  {
   "cell_type": "markdown",
   "metadata": {},
   "source": [
    "<h1 style=\"color: purple; text-align:center\">Métodos iterativos para encontrar a raiz de um polinômio</h1> "
   ]
  },
  {
   "cell_type": "markdown",
   "metadata": {},
   "source": [
    "<h2 style=\"color: purple; text-align:center\">Método da Bisseção</h2> "
   ]
  },
  {
   "cell_type": "markdown",
   "metadata": {},
   "source": [
    "<img src=\"bisection.gif\">    "
   ]
  },
  {
   "cell_type": "markdown",
   "metadata": {},
   "source": [
    "Execução: dividir um intervalo (a , b) em que a raiz se encontra pela metade, encontrando um ponto (c, f(c)). Decidir entre os dois intervalos resultantes: (a , c) ou (c , b) aquele em que a função muda de sinal, pois é ali onde ha uma raiz. Dividir novamente…\n",
    "\n",
    "Informações:\n",
    "- f é contínua\n",
    "- (a , b) com $f(a)*f(b)$ < 0, ou seja, a função troca de sinal, portanto há uma raiz no intervalo (a, b)\n",
    "- $β_{max}$: erro máximo tolerado ou precisão mínima requerida (critério de parada) ou tamanho do intervalo.\n",
    "- Teorema do Valor Intermediário: é condição suficiente para o método\n",
    "- Redução linear do erro: A cada subdivisão do intervalo, ou a cada interação do código, o erro cai pela metade"
   ]
  },
  {
   "cell_type": "markdown",
   "metadata": {},
   "source": [
    "\\begin{gather*}\n",
    "\\varepsilon_{n+1} = \\frac{b - a}{2} \\\\\n",
    "\\varepsilon_{n+1} = \\frac{\\varepsilon_{n}}{2}\n",
    "\\end{gather*}"
   ]
  },
  {
   "cell_type": "markdown",
   "metadata": {},
   "source": [
    "Exemplo: encontrar a raiz positiva do polinômio  $y = x^2-2$ $(√2)$ "
   ]
  },
  {
   "cell_type": "code",
   "execution_count": 34,
   "metadata": {},
   "outputs": [
    {
     "name": "stdout",
     "output_type": "stream",
     "text": [
      "Raiz de 2:  1.4142141342163086\n",
      "Quantidade de loops executados:  20\n"
     ]
    }
   ],
   "source": [
    "inf = 1\n",
    "sup = 2\n",
    "med = 0\n",
    "prec = 0.000001\n",
    "finf = 0\n",
    "fsup = 0\n",
    "fmed = 0;\n",
    "qntloops = 0\n",
    "\t\n",
    "while((sup - inf) > prec):\n",
    "\n",
    "    med = (sup + inf) / 2\n",
    "    fmed = pow(med, 2) - 2\n",
    "    finf = pow(inf, 2) - 2\n",
    "    fsup = pow(sup, 2) - 2\n",
    "    \n",
    "    if(finf*fmed < 0):\n",
    "\n",
    "        sup = med\n",
    "\n",
    "    elif(fmed == 0):\n",
    "\n",
    "        break\n",
    "\n",
    "    else:\n",
    "\n",
    "        inf = med\n",
    "        \n",
    "    qntloops += 1\n",
    "\n",
    "print(\"Raiz de 2: \", med)\n",
    "print(\"Quantidade de loops executados: \", qntloops)"
   ]
  },
  {
   "cell_type": "markdown",
   "metadata": {},
   "source": [
    "---"
   ]
  },
  {
   "cell_type": "markdown",
   "metadata": {},
   "source": [
    "<h2 style=\"color: purple; text-align:center\">Método da falsa posição</h2> "
   ]
  },
  {
   "cell_type": "markdown",
   "metadata": {},
   "source": [
    "<div style=\"margin: 0 auto;\">\n",
    "    <img src=\"RegulaFalsi.gif\">\n",
    "</div>"
   ]
  },
  {
   "cell_type": "markdown",
   "metadata": {},
   "source": [
    "Premissa: reta é uma aproximação melhor da função (?) \n",
    "\n",
    "Execução: Escolhemos um intervalo (a , b) em que a raiz de encontra, traçamos uma reta do ponto f(a) até o ponto f(b). A raiz dessa reta sera o ponto c (a falsa posição da raiz). Se f(c) * f(a) < 0, o novo extremo b deve ser c. Do contrario, o novo extremo a deve ser c. Faz-se o mesmo procedimento para o novo intervalo.\n",
    "\n",
    "Fazemos o desenvolvimento do sistema de equações de reta a seguir:"
   ]
  },
  {
   "cell_type": "markdown",
   "metadata": {},
   "source": [
    "\\begin{cases}\n",
    "f(a) & = & αa & + & β\\\\f(b) & = & αb & + & β\\\\f(c) & = & 0 & = & αc & + & β \n",
    "\\end{cases}"
   ]
  },
  {
   "cell_type": "markdown",
   "metadata": {},
   "source": [
    "- A primeira é a equação da reta aplicada no ponto a\n",
    "- A segunda é a equação da reta aplicada no ponto b\n",
    "- A terceira é a equação da reta aplicada no ponto c que é a raiz da funçao, ou seja f(c) = 0\n",
    "- α é o coeficiente angular e β o linear\n",
    "- Como resultado do sistema temos:"
   ]
  },
  {
   "cell_type": "markdown",
   "metadata": {},
   "source": [
    "\\begin{equation*}\n",
    "c  = \\frac{f(a)b - f(b)a}{f(a)-f(b)}\n",
    "\\end{equation*}"
   ]
  },
  {
   "cell_type": "markdown",
   "metadata": {},
   "source": [
    "- Onde o ponto c (falsa posição) é dado em função de a, b, f(a) e f(b)\n",
    "  \n",
    "O critério de parada é um erro máximo β associado não ao intervalo (a , b), mas ao quão próximo f(c) esta de 0, ou seja, o quão próximo está de ser uma raiz.\n",
    "- $|f(c)|< β$\n"
   ]
  },
  {
   "cell_type": "markdown",
   "metadata": {},
   "source": [
    "Cada subdivisão do intervalo, β diminui em…"
   ]
  },
  {
   "cell_type": "markdown",
   "metadata": {},
   "source": [
    "Exemplo: encontrar a raiz positiva do polinômio  $y = x^2-2$ $(√2)$"
   ]
  },
  {
   "cell_type": "code",
   "execution_count": 35,
   "metadata": {},
   "outputs": [
    {
     "name": "stdout",
     "output_type": "stream",
     "text": [
      "Valor da raiz de 2:  1.4142134998513232\n",
      "Quantidade de loops executados:  9\n"
     ]
    }
   ],
   "source": [
    "a = 1\n",
    "b = 2\n",
    "c = 0\n",
    "fa = 0\n",
    "fb = 0\n",
    "fc = 1\n",
    "B = 0.000001\n",
    "qntloops = 0\n",
    "\n",
    "while(abs(fc) > B):\n",
    "\n",
    "    fa = pow(a, 2) - 2;\n",
    "    fb = pow(b, 2) - 2;\n",
    "\n",
    "    c = (fa*b - fb*a) / (fa - fb);\n",
    "    fc = pow(c, 2) - 2;\n",
    "\n",
    "    if(fc*fa < 0):\n",
    "\n",
    "        b = c\n",
    "\n",
    "    elif(fc == 0):\n",
    "\n",
    "        break\n",
    "\n",
    "    else:\n",
    "\n",
    "        a = c\n",
    "        \n",
    "    qntloops += 1\n",
    "    \n",
    "print(\"Valor da raiz de 2: \", c);\n",
    "print(\"Quantidade de loops executados: \", qntloops)"
   ]
  },
  {
   "cell_type": "markdown",
   "metadata": {},
   "source": [
    "---"
   ]
  },
  {
   "cell_type": "markdown",
   "metadata": {},
   "source": [
    "<h2 style=\"color: purple;text-align:center;\" >Método de Newton</h2>"
   ]
  },
  {
   "cell_type": "markdown",
   "metadata": {},
   "source": [
    "<img src=\"newton.gif\">"
   ]
  },
  {
   "cell_type": "markdown",
   "metadata": {},
   "source": [
    "Execução: Arbitramos um ponto $x_0$ bem próximo à raiz do polinômio. Calculamos a reta y tangente a $f(x_0)$, ou seja, a reta y cujo coeficiente angular seja a derivada $f’(x_0)$. Calculamos o ponto onde a reta intercepta o eixo x, ou seja, o ponto $x_1$ em que $y(x_1) = 0$. Calculamos $f(x_1)$ e logo depois a reta tangente a f(x1)…"
   ]
  },
  {
   "cell_type": "markdown",
   "metadata": {},
   "source": [
    "Para acharmos o próximo ponto possível para raiz: $x_{i+1}$ em função do ponto $x_i$, efetuamos o seguinte desenvolvimento:"
   ]
  },
  {
   "cell_type": "markdown",
   "metadata": {},
   "source": [
    "\\begin{gather*}\n",
    "y(x) = αx + β\\\\ \n",
    "y(x_0) = f(x_0) = f'(x_0)x_0 + β \n",
    "\\\\ β = f(x_0) -f'(x_0)x_0\n",
    "\\\\ mas, y(x_1) = 0 \n",
    "\\\\ y(x_1) = 0 = f'(x_0)x_1 +  f(x_0) -f'(x_0)x_0\n",
    "\\\\ x_1 = x_0 - \\frac{f(x_0)}{f'(x_0)} \n",
    "\\end{gather*}"
   ]
  },
  {
   "cell_type": "markdown",
   "metadata": {},
   "source": [
    "Podemos generalizar (6) para:"
   ]
  },
  {
   "cell_type": "markdown",
   "metadata": {},
   "source": [
    "\\begin{equation*} x_{i+1} = x_i - \\frac{f(x_i)}{f'(x_i)} \\end{equation*}"
   ]
  },
  {
   "cell_type": "markdown",
   "metadata": {},
   "source": [
    "Obs.: ($f'(x_{i})$) não pode ser 0 para o método funcionar. A derivada zero indicaria uma mudança de comportamento da função nas proximidades da raiz, fazendo-se necessário refinar mais o valor de $x_{0}$ (achar uma mais próximo da raiz) com outros métodos como o da bisseção."
   ]
  },
  {
   "cell_type": "markdown",
   "metadata": {},
   "source": [
    "Informações:\n",
    "- a função f deve ser diferenciável\n",
    "- β é a tolerância de erro, geralmente $10^{-k}$ com k dado pela função (critério de parada)\n",
    "- Nmax é o número máximo de iterações geralmente dado por 2k (critério de parada)\n",
    "— Erro β analisado na Série de Taylor"
   ]
  },
  {
   "cell_type": "markdown",
   "metadata": {},
   "source": [
    "Exemplo: encontrar a raiz positiva do polinômio  $y = x^2-2$ $(√2)$"
   ]
  },
  {
   "cell_type": "code",
   "execution_count": 10,
   "metadata": {},
   "outputs": [
    {
     "name": "stdout",
     "output_type": "stream",
     "text": [
      "divergiu\n",
      "Raiz de 2 é:  1.4142156862745099\n",
      "Quantidade de loops foi:  2\n"
     ]
    }
   ],
   "source": [
    "x = 1.5;\n",
    "fx = 0;\n",
    "derx = 0; \n",
    "B = 0.0001;\n",
    "i = 0\n",
    "\n",
    "while(i < 100):\n",
    "    fx = pow(x, 2) - 2\n",
    "    derx = 2*x\n",
    "    x = x - fx/derx\n",
    "    i += 1;\n",
    "\n",
    "    if(fx < 0.0001):\n",
    "        break\n",
    "\n",
    "print(\"Raiz de 2 é: \", x);\n",
    "print(\"Quantidade de loops foi: \", i)"
   ]
  },
  {
   "cell_type": "markdown",
   "metadata": {},
   "source": [
    "---"
   ]
  },
  {
   "cell_type": "markdown",
   "metadata": {},
   "source": [
    "<h1 style=\"color: green; text-align:center\">Série de Taylor</h1> "
   ]
  },
  {
   "cell_type": "markdown",
   "metadata": {},
   "source": [
    "Objetivo: aproximar uma função conhecida e diferenciável para um polinômio de grau “n”"
   ]
  },
  {
   "cell_type": "markdown",
   "metadata": {},
   "source": [
    "\\begin{equation*}\n",
    "Pn(x) = a_0 + a_1x + a_2x^2 + a_3x^3 + ... + a_nx^n\n",
    "\\end{equation*}"
   ]
  },
  {
   "cell_type": "markdown",
   "metadata": {},
   "source": [
    "Propriedades convenientes de polinômios:"
   ]
  },
  {
   "cell_type": "markdown",
   "metadata": {},
   "source": [
    "- Contínuos e Diferenciáveis\n",
    "- Fáceis de operar"
   ]
  },
  {
   "cell_type": "markdown",
   "metadata": {},
   "source": [
    "Para achar os valores dos coeficientes:"
   ]
  },
  {
   "cell_type": "markdown",
   "metadata": {},
   "source": [
    "\\begin{gather*}\n",
    "f(x) = a_0 + a_1x + a_2x^2 + a_3x^3 ...\\\\\n",
    "x = 0 \\rightarrow f(0) = a_0\\\\\n",
    "f'(x) = a_1 + 2a_2x + 3a_3x^2\\\\\n",
    "x = 0 \\rightarrow f'(0) = a_1 \\rightarrow a_1 = \\frac {f'(0)}{1!}\\\\\n",
    "f''(x) = 2\\cdot1a_2 + 3\\cdot2a_3x ... \\\\\n",
    "x = 0 \\rightarrow f''(0) = 2\\cdot1a_2 \\rightarrow a_2 = \\frac {f''(0)}{2!}\\\\\n",
    "\\end{gather*}"
   ]
  },
  {
   "cell_type": "markdown",
   "metadata": {},
   "source": [
    "A formula geral dos coeficientes é:"
   ]
  },
  {
   "cell_type": "markdown",
   "metadata": {},
   "source": [
    "\\begin{equation*}\n",
    "a_n = \\frac {f^{[n]}(0)}{n!}\n",
    "\\end{equation*}"
   ]
  },
  {
   "cell_type": "markdown",
   "metadata": {},
   "source": [
    "Quando ha deslocamento \"s\" em relaçao a x no polinomio:"
   ]
  },
  {
   "cell_type": "markdown",
   "metadata": {},
   "source": [
    "\\begin{equation*}\n",
    "a_n = \\frac {f^{[n]}(s)}{n!}\n",
    "\\end{equation*}"
   ]
  },
  {
   "cell_type": "markdown",
   "metadata": {},
   "source": [
    "- \"s\" é chamado de centro de série"
   ]
  },
  {
   "cell_type": "markdown",
   "metadata": {},
   "source": [
    "\\begin{equation*}\n",
    "f(x-s) = a_0 + a_1(x-s) + a_2(x-s)^2 + a_3(x-s)^3 \n",
    "\\end{equation*}"
   ]
  },
  {
   "cell_type": "markdown",
   "metadata": {},
   "source": [
    "Podemos utilizar a série de Taylor para aproximar uma função conhecida a um polinômio de “n” termos. "
   ]
  },
  {
   "cell_type": "markdown",
   "metadata": {},
   "source": [
    "Exemplo: Aproximar $sen(x)$ a um $Pn(x)$ de 3 termos em torno do ponto $x = \\pi / 2$"
   ]
  },
  {
   "cell_type": "markdown",
   "metadata": {},
   "source": [
    "\\begin{gather*}\n",
    "s = \\frac{\\pi}{2}\\\\\n",
    "sen(x) = Pn(x) \\\\\n",
    "a_0 = Pn(s) = sen(\\frac{\\pi}{2}) = 1\\\\\n",
    "[sen(x)]' = [Pn(x)]'\\\\\n",
    "a_1 = \\frac{Pn'(s)}{1!} = \\frac{sen'(\\frac{\\pi}{2})}{1!} = \\frac{cos(\\frac{\\pi}{2})}{1!} = 0\\\\\n",
    "[sen(x)]'' = [Pn(x)]''\\\\\n",
    "a_2 = \\frac{Pn''(s)}{2!} = \\frac{sen''(\\frac{\\pi}{2})}{2!} = \\frac{-sen(\\frac{\\pi}{2})}{2!} = -\\frac{1}{2}\\\\\n",
    "\\end{gather*}"
   ]
  },
  {
   "cell_type": "markdown",
   "metadata": {},
   "source": [
    "Encontramos $a_0$, $a_1$ e $a_2$, temos então o polinômio:"
   ]
  },
  {
   "cell_type": "markdown",
   "metadata": {},
   "source": [
    "\\begin{equation*}Pn(x) = 1 -\\frac{1}{2}(x - \\frac{\\pi}{2})^2\\end{equation*}\n"
   ]
  },
  {
   "cell_type": "code",
   "execution_count": 37,
   "metadata": {},
   "outputs": [
    {
     "data": {
      "image/png": "[encoded data removed]",
      "text/plain": [
       "<Figure size 640x480 with 1 Axes>"
      ]
     },
     "metadata": {},
     "output_type": "display_data"
    }
   ],
   "source": [
    "from matplotlib import pyplot as plt\n",
    "import numpy as np\n",
    "import math\n",
    "\n",
    "def f(x):\n",
    "    return 1 - ((x - math.pi/2)**2)/2\n",
    "\n",
    "def h(x):\n",
    "    return np.sin(x)\n",
    "\n",
    "x = np.linspace(0, 4, 1000)\n",
    "y = f(x)\n",
    "z = h(x)\n",
    "\n",
    "plt.plot(x, y, color='r', label='Pn(x)')\n",
    "plt.plot(x, z, color='b', label='sen(x)')\n",
    "plt.legend()\n",
    "\n",
    "plt.show()"
   ]
  },
  {
   "cell_type": "markdown",
   "metadata": {},
   "source": [
    "Percebe-se pelo gráfico que $Pn(x)$ diverge cada vez mais de $sen(x)$ a medida em que se afasta do ponto $s = \\pi/2$"
   ]
  },
  {
   "cell_type": "markdown",
   "metadata": {},
   "source": [
    "Assim, considerando os pontos suficientemente próximos de s, ou seja, pontos cuja distância $|x - s|$ seja muito pequena, o polinômio encontrado é uma otina aproximação. Para pontos mais distantes de s, o polinômio deve ter mais termos."
   ]
  },
  {
   "cell_type": "code",
   "execution_count": 14,
   "metadata": {},
   "outputs": [
    {
     "name": "stdout",
     "output_type": "stream",
     "text": [
      "-1.22464679914735e-16*x - 0.235330630358893*(0.318309886183791*x - 1)**8 + 7.33887387675253e-17*(0.318309886183791*x - 1)**7 + 1.33526276885459*(0.318309886183791*x - 1)**6 - 3.12305022873647e-16*(0.318309886183791*x - 1)**5 - 4.05871212641677*(0.318309886183791*x - 1)**4 + 6.32862291500106e-16*(0.318309886183791*x - 1)**3 + 4.93480220054468*(0.318309886183791*x - 1)**2 - 1.0\n"
     ]
    },
    {
     "data": {
      "image/png": "[encoded data removed]",
      "text/plain": [
       "<Figure size 640x480 with 1 Axes>"
      ]
     },
     "metadata": {},
     "output_type": "display_data"
    }
   ],
   "source": [
    "from matplotlib import pyplot as plt\n",
    "import sympy as sp\n",
    "from sympy import sin, exp, cos, lambdify, factorial\n",
    "from sympy.abc import x\n",
    "import numpy as np\n",
    "import math\n",
    "\n",
    "#centro de série\n",
    "s = math.pi\n",
    "\n",
    "#numero de termos desejados\n",
    "n = 9\n",
    "\n",
    "#funçao\n",
    "def f(x): \n",
    "    return cos(x)\n",
    "\n",
    "res = 0;\n",
    "fun = f(x);\n",
    "\n",
    "#encontrar polinomio de taylor\n",
    "for i in range(n):\n",
    "    res += fun.evalf(subs={x: s}) * (x - s)**i / math.factorial(i)\n",
    "    fun = sp.diff(fun,x)\n",
    "print(res)\n",
    "\n",
    "#convertendo objetos sympy para numpy\n",
    "pol = lambdify(x, res, modules=['numpy'])\n",
    "function = lambdify(x, f(x), modules=['numpy'])\n",
    "\n",
    "#limites dos eixos x e y\n",
    "x_axis = np.linspace(0, 6, 1000)\n",
    "y = pol(x_axis)\n",
    "z = function(x_axis)\n",
    "ponto_enfatizado = (s, f(s))\n",
    "\n",
    "#imprimindo grafico\n",
    "plt.plot(x_axis, y, color='r', label='Pn(x)')\n",
    "plt.plot(x_axis, z, color='b', label='f(x)')\n",
    "plt.scatter(*ponto_enfatizado, color='green', label='centro da série')\n",
    "plt.annotate('centro da série', xy=ponto_enfatizado, xytext=(3.5, 0.5),\n",
    "             arrowprops=dict(arrowstyle='->', color='green'))\n",
    "\n",
    "plt.legend()\n",
    "\n",
    "plt.show()"
   ]
  },
  {
   "cell_type": "markdown",
   "metadata": {},
   "source": [
    "---"
   ]
  },
  {
   "cell_type": "markdown",
   "metadata": {},
   "source": [
    "<h2 style=\"color: green; text-align:center\">Análise do Erro relacionado ao método de Newton</h2> "
   ]
  },
  {
   "cell_type": "markdown",
   "metadata": {},
   "source": [
    "Podemos considerar $x_{n+1}$ como $g(x_n)$ (que pende de $f(x_n)$ e $f'(x_n)$:"
   ]
  },
  {
   "cell_type": "markdown",
   "metadata": {},
   "source": [
    "\\begin{equation*} x_{n+1} = x_n - \\frac{f(x_n)}{f'(x_n)} = g(x_n)\\end{equation*}"
   ]
  },
  {
   "cell_type": "markdown",
   "metadata": {},
   "source": [
    "Considerando a raiz de $f(x)$ como s, do próprio método temos que $x_n$ tende a s:"
   ]
  },
  {
   "cell_type": "markdown",
   "metadata": {},
   "source": [
    "\\begin{gather*} \n",
    "f(s) = 0 \\\\\n",
    "\\lim_{n\\rightarrow \\infty} x_n = s\n",
    "\\end{gather*}"
   ]
  },
  {
   "cell_type": "markdown",
   "metadata": {},
   "source": [
    "Aplicando a fórmula de coeficientes do método de Taylor à função $g(x_n)$ encontramos os seguintes valores para os coeficientes do polinômio que melhor a aproxima:"
   ]
  },
  {
   "cell_type": "markdown",
   "metadata": {},
   "source": [
    "\\begin{gather*} \n",
    "a_0 = g(s) = s - \\frac{f(s)}{f'(s)} = s \\\\\n",
    "a_1 = g'(s) = 0 \\\\\n",
    "a_2 = \\frac{g''(s)}{2} = \\frac{f''(s)}{2f(s)} \\\\\n",
    "a_3 = ...\n",
    "\\end{gather*}"
   ]
  },
  {
   "cell_type": "markdown",
   "metadata": {},
   "source": [
    "\\begin{gather*} \n",
    "g(x_n) = x_{n + 1} = s + \\frac{f''(s)}{2f(s)}(x_n - s)^2 + a3(x_n - s)^3 + ...\\\\\n",
    "x_{n + 1} - s = \\frac{f''(s)}{2f(s)}(x_n - s)^2 + a3(x_n - s)^3 + ...\n",
    "\\end{gather*}"
   ]
  },
  {
   "cell_type": "markdown",
   "metadata": {},
   "source": [
    "- $x_{n+1} - s$ é a distância entre a aproximação para a raiz e a raiz em si\n",
    "- $x_n$ é a aproximação anterior"
   ]
  },
  {
   "cell_type": "markdown",
   "metadata": {},
   "source": [
    "Erro da aproximação anterior: $\\varepsilon_n = x_n - s$"
   ]
  },
  {
   "cell_type": "markdown",
   "metadata": {},
   "source": [
    "Erro da próxima aproximação: $\\varepsilon_{n + 1} = x_{n + 1} - s$"
   ]
  },
  {
   "cell_type": "markdown",
   "metadata": {},
   "source": [
    "Substituindo os erros no polinômio encontrado:"
   ]
  },
  {
   "cell_type": "markdown",
   "metadata": {},
   "source": [
    "\\begin{equation*}\n",
    "\\varepsilon_{n + 1} = \\frac{f''(s)}{2f(s)}\\varepsilon_n^2 + O(\\varepsilon_n^3) ...\n",
    "\\end{equation*}"
   ]
  },
  {
   "cell_type": "markdown",
   "metadata": {},
   "source": [
    "Percebe-se que o método de Taylor é de ordem quadrática."
   ]
  },
  {
   "cell_type": "markdown",
   "metadata": {},
   "source": [
    "$O(\\varepsilon_n^3)$ são os termos de ordem $(\\varepsilon_n^3)$ ou mais. Para tais termos, o erro é maior, pois a distância entre os valores experimentais e o real ($x_n - s$) aumenta."
   ]
  },
  {
   "cell_type": "markdown",
   "metadata": {},
   "source": [
    "---"
   ]
  },
  {
   "cell_type": "markdown",
   "metadata": {},
   "source": [
    "<h1 style=\"color: blue; text-align:center\">Interpolação</h1> "
   ]
  },
  {
   "cell_type": "markdown",
   "metadata": {},
   "source": [
    "Objetivo: Encontrar polinômio de grau “n” a partir de dados tabelados"
   ]
  },
  {
   "cell_type": "markdown",
   "metadata": {},
   "source": [
    "\\begin{equation*}\n",
    "Pn(x) = a_0 + a_1x + a_2x^2 + a_3x^3 + ... + a_nx^n\n",
    "\\end{equation*}"
   ]
  },
  {
   "cell_type": "markdown",
   "metadata": {},
   "source": [
    "<table style=\"border: 1px solid black; text-align: center;\">\n",
    "    <tr style=\"border: 1px solid black;\">\n",
    "        <th style=\"border: 1px solid black;\">$x_i$</th>\n",
    "        <th style=\"border: 1px solid black;\">$f(x_i) = y_i$</th>\n",
    "        <th style=\"border: 1px solid black;\">$P_n(x_i)$</th>\n",
    "    </tr>\n",
    "    <tr style=\"border: 1px solid black;\">\n",
    "        <td style=\"border: 1px solid black;\">$x_0$</td>\n",
    "        <td style=\"border: 1px solid black;\">$y_0$</td>\n",
    "        <td style=\"border: 1px solid black;\">$P_n(x_0) = y_0$</td>\n",
    "    </tr>\n",
    "    <tr style=\"border: 1px solid black;\">\n",
    "        <td style=\"border: 1px solid black;\">$x_1$</td>\n",
    "        <td style=\"border: 1px solid black;\">$y_1$</td>\n",
    "        <td style=\"border: 1px solid black;\">$P_n(x_1) = y_1$</td>\n",
    "    </tr>\n",
    "    <tr style=\"border: 1px solid black;\">\n",
    "        <td style=\"border: 1px solid black;\">$x_2$</td>\n",
    "        <td style=\"border: 1px solid black;\">$y_2$</td>\n",
    "        <td style=\"border: 1px solid black;\">$P_n(x_2) = y_2$</td>\n",
    "    </tr>\n",
    "</table>"
   ]
  },
  {
   "cell_type": "markdown",
   "metadata": {},
   "source": [
    "Interpolar: encontrar os pontos faltantes entre $x_1$ e $x_3$, ou seja, encontrar $P_n(x) \\forall x \\in (x_1, x_3)$"
   ]
  },
  {
   "cell_type": "markdown",
   "metadata": {},
   "source": [
    "Dado um conjunto de (n + 1) pontos, qual polinômio interpolante de menor grau obtemos? "
   ]
  },
  {
   "cell_type": "markdown",
   "metadata": {},
   "source": [
    "<p style=\"color: blue;\"> a) n = 0 -> um único ponto </p>\n",
    "\n",
    "<table style=\"border: 1px solid black; text-align: center;\">\n",
    "    <tr style=\"border: 1px solid black;\">\n",
    "        <th style=\"border: 1px solid black;\">$x_i$</th>\n",
    "        <th style=\"border: 1px solid black;\">$f(x_i) = y_i$</th>\n",
    "    </tr>\n",
    "    <tr style=\"border: 1px solid black;\">\n",
    "        <td style=\"border: 1px solid black;\">$x_0$</td>\n",
    "        <td style=\"border: 1px solid black;\">$y_0$</td>\n",
    "    </tr>\n",
    "</table>"
   ]
  },
  {
   "cell_type": "markdown",
   "metadata": {},
   "source": [
    "Função constante: $Pn_0(x) = y_0$"
   ]
  },
  {
   "cell_type": "code",
   "execution_count": 39,
   "metadata": {},
   "outputs": [
    {
     "data": {
      "image/png": "[encoded data removed]",
      "text/plain": [
       "<Figure size 640x480 with 1 Axes>"
      ]
     },
     "metadata": {},
     "output_type": "display_data"
    }
   ],
   "source": [
    "from matplotlib import pyplot as plt\n",
    "import numpy as np\n",
    "import math\n",
    "\n",
    "def f(x):\n",
    "    return 1 * x**0\n",
    "\n",
    "x = np.linspace(0, 4, 1000)\n",
    "y = f(x)\n",
    "ponto_enfatizado = (2, f(2))\n",
    "\n",
    "plt.gca().xaxis.set_visible(False)\n",
    "plt.gca().yaxis.set_visible(False)\n",
    "plt.plot(x, y, color='r', label='Pn(x)')\n",
    "plt.scatter(*ponto_enfatizado, color='green', label='x0')\n",
    "plt.legend()\n",
    "\n",
    "plt.show()"
   ]
  },
  {
   "cell_type": "markdown",
   "metadata": {},
   "source": [
    "---"
   ]
  },
  {
   "cell_type": "markdown",
   "metadata": {},
   "source": [
    "<p style=\"color: blue;\"> a) n = 1 -> dois pontos </p>\n",
    "\n",
    "<table style=\"border: 1px solid black; text-align: center;\">\n",
    "    <tr style=\"border: 1px solid black;\">\n",
    "        <th style=\"border: 1px solid black;\">$x_i$</th>\n",
    "        <th style=\"border: 1px solid black;\">$f(x_i) = y_i$</th>\n",
    "    </tr>\n",
    "    <tr style=\"border: 1px solid black;\">\n",
    "        <td style=\"border: 1px solid black;\">$x_0$</td>\n",
    "        <td style=\"border: 1px solid black;\">$y_0$</td>\n",
    "    </tr>\n",
    "    <tr style=\"border: 1px solid black;\">\n",
    "        <td style=\"border: 1px solid black;\">$x_1$</td>\n",
    "        <td style=\"border: 1px solid black;\">$y_1$</td>\n",
    "    </tr>\n",
    "</table>"
   ]
  },
  {
   "cell_type": "markdown",
   "metadata": {},
   "source": [
    "Função linear: $Pn_1(x) = a_0 + a_1x$"
   ]
  },
  {
   "cell_type": "markdown",
   "metadata": {},
   "source": [
    "Para encontrar os coeficientes, resolvemos o sistema linear:"
   ]
  },
  {
   "cell_type": "markdown",
   "metadata": {},
   "source": [
    "\\begin{cases}\n",
    " a_0 + a_1x_0 = y_0\\\\\n",
    " a_0 + a_1x_1 = y_1\\\\\n",
    "\\end{cases}"
   ]
  },
  {
   "cell_type": "code",
   "execution_count": 40,
   "metadata": {},
   "outputs": [
    {
     "data": {
      "image/png": "[encoded data removed]",
      "text/plain": [
       "<Figure size 640x480 with 1 Axes>"
      ]
     },
     "metadata": {},
     "output_type": "display_data"
    }
   ],
   "source": [
    "from matplotlib import pyplot as plt\n",
    "import numpy as np\n",
    "import math\n",
    "\n",
    "def f(x):\n",
    "    return 1 + x\n",
    "\n",
    "x = np.linspace(0, 4, 1000)\n",
    "y = f(x)\n",
    "ponto_1 = (1, f(1))\n",
    "ponto_2 = (3, f(3))\n",
    "\n",
    "plt.gca().xaxis.set_visible(False)\n",
    "plt.gca().yaxis.set_visible(False)\n",
    "plt.plot(x, y, color='r', label='Pn(x)')\n",
    "plt.scatter(*ponto_1, color='green', label='x1')\n",
    "plt.scatter(*ponto_2, color='blue', label='x2')\n",
    "\n",
    "plt.legend()\n",
    "\n",
    "plt.show()"
   ]
  },
  {
   "cell_type": "markdown",
   "metadata": {},
   "source": [
    "---"
   ]
  },
  {
   "cell_type": "markdown",
   "metadata": {},
   "source": [
    "<p style=\"color: blue;\"> a) n = 2 -> três pontos </p>\n",
    "\n",
    "<table style=\"border: 1px solid black; text-align: center;\">\n",
    "    <tr style=\"border: 1px solid black;\">\n",
    "        <th style=\"border: 1px solid black;\">$x_i$</th>\n",
    "        <th style=\"border: 1px solid black;\">$f(x_i) = y_i$</th>\n",
    "    </tr>\n",
    "    <tr style=\"border: 1px solid black;\">\n",
    "        <td style=\"border: 1px solid black;\">$0$</td>\n",
    "        <td style=\"border: 1px solid black;\">-$2$</td>\n",
    "    </tr>\n",
    "    <tr style=\"border: 1px solid black;\">\n",
    "        <td style=\"border: 1px solid black;\">$1$</td>\n",
    "        <td style=\"border: 1px solid black;\">$-1$</td>\n",
    "    </tr>\n",
    "    <tr style=\"border: 1px solid black;\">\n",
    "        <td style=\"border: 1px solid black;\">$2$</td>\n",
    "        <td style=\"border: 1px solid black;\">$2$</td>\n",
    "    </tr>\n",
    "</table>"
   ]
  },
  {
   "cell_type": "markdown",
   "metadata": {},
   "source": [
    "Função quadrática: $Pn_2(x) = a_0 + a_1x + a_2x^2$"
   ]
  },
  {
   "cell_type": "markdown",
   "metadata": {},
   "source": [
    "Para encontrar os coeficientes, resolvemos o sistema linear:"
   ]
  },
  {
   "cell_type": "markdown",
   "metadata": {},
   "source": [
    "\\begin{cases}\n",
    " Pn_2(0) = -2 = a_0 + 0a_1 + (0)^2a_2\\\\\n",
    " Pn_2(0) = -1 = a_0 + 1a_1 + (1)^2a_2\\\\\n",
    " Pn_2(0) = -2 = a_0 + 2a_1 + (2)^2a_2\\\\\n",
    "\\end{cases}"
   ]
  },
  {
   "cell_type": "markdown",
   "metadata": {},
   "source": [
    "Percebe-se que as equações são linearmente independentes, ou seja, existe um único polinômio que passa pelos três pontos dados. Resolvendo o sistema, o polinômio é:\n",
    "$Pn_2(x) = x^2 - 2$"
   ]
  },
  {
   "cell_type": "code",
   "execution_count": 41,
   "metadata": {},
   "outputs": [
    {
     "data": {
      "image/png": "[encoded data removed]",
      "text/plain": [
       "<Figure size 640x480 with 1 Axes>"
      ]
     },
     "metadata": {},
     "output_type": "display_data"
    }
   ],
   "source": [
    "from matplotlib import pyplot as plt\n",
    "import numpy as np\n",
    "import math\n",
    "\n",
    "def f(x):\n",
    "    return x**2 -2\n",
    "\n",
    "x = np.linspace(0, 4, 1000)\n",
    "y = f(x)\n",
    "ponto_1 = (0, f(0))\n",
    "ponto_2 = (1, f(1))\n",
    "ponto_3 = (2, f(2))\n",
    "\n",
    "plt.plot(x, y, color='r', label='Pn(x)')\n",
    "plt.scatter(*ponto_1, color='green', label='x1')\n",
    "plt.scatter(*ponto_2, color='blue', label='x2')\n",
    "plt.scatter(*ponto_3, color='purple', label='x3')\n",
    "plt.legend()\n",
    "\n",
    "plt.show()"
   ]
  },
  {
   "cell_type": "markdown",
   "metadata": {},
   "source": [
    "---"
   ]
  },
  {
   "cell_type": "markdown",
   "metadata": {},
   "source": [
    "<h2 style=\"color: blue; text-align:center\">Polinômios de Lagrange</h2>"
   ]
  },
  {
   "cell_type": "markdown",
   "metadata": {},
   "source": [
    "Para encontrar polinômios de maior grau, a resolução de sistemas lineares se torna muito complexa. O método de Lagrange apresenta uma resolução mais rápida para esse problema:"
   ]
  },
  {
   "cell_type": "markdown",
   "metadata": {},
   "source": [
    "<table style=\"border: 1px solid black; text-align: center;\">\n",
    "    <tr style=\"border: 1px solid black;\">\n",
    "        <th style=\"border: 1px solid black;\">$x_i$ (nos)</th>\n",
    "        <th style=\"border: 1px solid black;\">$f(x_i)$</th>\n",
    "    </tr>\n",
    "    <tr style=\"border: 1px solid black;\">\n",
    "        <td style=\"border: 1px solid black;\">$x_0$</td>\n",
    "        <td style=\"border: 1px solid black;\">$f(x_0)$</td>\n",
    "    </tr>\n",
    "    <tr style=\"border: 1px solid black;\">\n",
    "        <td style=\"border: 1px solid black;\">$x_1$</td>\n",
    "        <td style=\"border: 1px solid black;\">$f(x_1)$</td>\n",
    "    </tr>\n",
    "    <tr style=\"border: 1px solid black;\">\n",
    "        <td style=\"border: 1px solid black;\">$x_2$</td>\n",
    "        <td style=\"border: 1px solid black;\">$f(x_2)$</td>\n",
    "    </tr>\n",
    "</table>"
   ]
  },
  {
   "cell_type": "markdown",
   "metadata": {},
   "source": [
    "\\begin{equation*} Pn_2(x) = l_0(x)f(x_0) + l_1(x)f(x_1) + l_2(x)f(x_2) \\end{equation*}"
   ]
  },
  {
   "cell_type": "markdown",
   "metadata": {},
   "source": [
    "Onde:"
   ]
  },
  {
   "cell_type": "markdown",
   "metadata": {},
   "source": [
    "\\begin{equation*}\n",
    "l_i(x) =\n",
    "\\begin{cases}\n",
    " 1, & se & x = x_i \\\\\n",
    " 0, & se & x = x_j, (j \\neq i)\n",
    "\\end{cases}\n",
    "\\end{equation*}"
   ]
  },
  {
   "cell_type": "markdown",
   "metadata": {},
   "source": [
    "O que garante a interpolação da seguinte forma:"
   ]
  },
  {
   "cell_type": "markdown",
   "metadata": {},
   "source": [
    "\\begin{gather*}\n",
    "Pn_2(x_0) =  f(x_0)\\\\\n",
    "Pn_2(x_1) =  f(x_1)\\\\\n",
    "Pn_2(x_2) =  f(x_2)\n",
    "\\end{gather*}"
   ]
  },
  {
   "cell_type": "markdown",
   "metadata": {},
   "source": [
    "$l_i(x)$ é configurado da seguinte forma para garantir os valores 0 ou 1:"
   ]
  },
  {
   "cell_type": "markdown",
   "metadata": {},
   "source": [
    "<table style=\"border: 1px solid black; text-align: center;\">\n",
    "    <tr style=\"border: 1px solid black;\">\n",
    "        <td>\n",
    "            \\begin{equation*}\n",
    "            l_0(x) = \\frac{(x - x_1)(x - x_2)}{(x_0 - x_1)(x_0 - x_2)}\n",
    "            \\end{equation*}\n",
    "        </td>\n",
    "        <td>\n",
    "             \\begin{gather*}\n",
    "            l_0(x_0) = 1\\\\\n",
    "            l_0(x_1) = 0\\\\\n",
    "            l_0(x_2) = 0\\\\\n",
    "            \\end{gather*}\n",
    "        </td>\n",
    "    </tr>\n",
    "    <tr style=\"border: 1px solid black;\">\n",
    "        <td>\n",
    "            \\begin{equation*}\n",
    "            l_1(x) = \\frac{(x - x_0)(x - x_2)}{(x_1 - x_0)(x_1 - x_2)}\n",
    "            \\end{equation*}\n",
    "        </td>\n",
    "        <td>\n",
    "             \\begin{gather*}\n",
    "            l_1(x_0) = 0\\\\\n",
    "            l_1(x_1) = 1\\\\\n",
    "            l_1(x_2) = 0\\\\\n",
    "            \\end{gather*}\n",
    "        </td>\n",
    "    </tr>\n",
    "    <tr style=\"border: 1px solid black;\">\n",
    "        <td>\n",
    "            \\begin{equation*}\n",
    "            l_2(x) = \\frac{(x - x_0)(x - x_1)}{(x_2 - x_0)(x_2 - x_1)}\n",
    "            \\end{equation*}\n",
    "        </td>\n",
    "        <td>\n",
    "             \\begin{gather*}\n",
    "            l_2(x_0) = 0\\\\\n",
    "            l_2(x_1) = 0\\\\\n",
    "            l_2(x_2) = 1\\\\\n",
    "            \\end{gather*}\n",
    "        </td>\n",
    "    </tr>\n",
    "</table>"
   ]
  },
  {
   "cell_type": "markdown",
   "metadata": {},
   "source": [
    "\\begin{equation}\n",
    "l_k(x)= \\prod_{i=0, i \\neq k}^{n} \\frac{(x - x_i)}{(x_k - x_i)}\n",
    "\\end{equation}"
   ]
  },
  {
   "cell_type": "markdown",
   "metadata": {},
   "source": [
    "Exemplo com entrada: (-1,7), (0,1), (1,-1), (1,-17)"
   ]
  },
  {
   "cell_type": "code",
   "execution_count": 1,
   "metadata": {},
   "outputs": [
    {
     "name": "stdin",
     "output_type": "stream",
     "text": [
      "Digite o valor de x (ou qualquer outra entrada para parar):  0\n",
      "Digite o valor de y (ou qualquer outra entrada para parar):  9\n",
      "Digite o valor de x (ou qualquer outra entrada para parar):  7\n",
      "Digite o valor de y (ou qualquer outra entrada para parar):  5\n",
      "Digite o valor de x (ou qualquer outra entrada para parar):  1\n",
      "Digite o valor de y (ou qualquer outra entrada para parar):  7\n",
      "Digite o valor de x (ou qualquer outra entrada para parar):  4\n",
      "Digite o valor de y (ou qualquer outra entrada para parar):  8\n",
      "Digite o valor de x (ou qualquer outra entrada para parar):  p\n"
     ]
    },
    {
     "name": "stdout",
     "output_type": "stream",
     "text": [
      "-0.115079365079365*x**3 + 1.15873015873016*x**2 - 3.04365079365079*x + 9.0\n"
     ]
    },
    {
     "data": {
      "image/png": "[encoded data removed]",
      "text/plain": [
       "<Figure size 640x480 with 1 Axes>"
      ]
     },
     "metadata": {},
     "output_type": "display_data"
    }
   ],
   "source": [
    "from matplotlib import pyplot as plt\n",
    "import sympy as sp\n",
    "from sympy import sin, exp, cos, lambdify, factorial\n",
    "from sympy.abc import x\n",
    "import numpy as np\n",
    "import math\n",
    "\n",
    "# Listas para armazenar os pontos x e y\n",
    "pontos_x = []\n",
    "pontos_y = []\n",
    "\n",
    "# Solicitar ao usuário que insira os valores x e y até que deseje parar\n",
    "while True:\n",
    "    try:\n",
    "        nx = float(input(\"Digite o valor de x (ou qualquer outra entrada para parar): \"))\n",
    "        ny = float(input(\"Digite o valor de y (ou qualquer outra entrada para parar): \"))\n",
    "        \n",
    "        pontos_x.append(nx)\n",
    "        pontos_y.append(ny)\n",
    "        \n",
    "    except ValueError:\n",
    "        # O usuário digitou algo que não é um número, encerramos a coleta\n",
    "        break\n",
    "\n",
    "# Verificar se há pontos coletados\n",
    "if len(pontos_x) > 0:\n",
    "\n",
    "    #polinomio\n",
    "    p = 0\n",
    "    #base de lagrange \n",
    "    l = 1\n",
    "    \n",
    "    for k, y in zip(pontos_x, pontos_y):\n",
    "        \n",
    "        for i in pontos_x:\n",
    "            if(i != k):\n",
    "                l *= (x - i)/(k - i)\n",
    "        p += l*y\n",
    "        l = 1\n",
    "        \n",
    "    p = sp.simplify(p)\n",
    "\n",
    "    #imprimindo polinomio\n",
    "    print(p)\n",
    "    \n",
    "    #convertendo objetos sympy para numpy\n",
    "    p = lambdify(x, p, modules=['numpy'])\n",
    "    \n",
    "    #limites dos eixos x e y\n",
    "    x_axis = np.linspace(-10, 10, 1000)\n",
    "    y = p(x_axis)\n",
    "\n",
    "    #grafico de dispersao dos pontos inseridos\n",
    "    plt.scatter(pontos_x, pontos_y)\n",
    "    \n",
    "    #imprimindo grafico\n",
    "    plt.plot(x_axis, y, color='r', label='Pn(x)')\n",
    "    \n",
    "    plt.legend()\n",
    "    \n",
    "    plt.show()\n",
    "    \n",
    "else:\n",
    "    print(\"Nenhum ponto foi coletado.\")\n"
   ]
  },
  {
   "cell_type": "markdown",
   "metadata": {},
   "source": [
    "<h2 style=\"color: blue; text-align:center\">Polinômios de Newton</h2>"
   ]
  },
  {
   "cell_type": "markdown",
   "metadata": {},
   "source": [
    "$p_{n-1}$: polinômio interpolador dos \"n\" primeiros pontos (obtido através de Lagrange)"
   ]
  },
  {
   "cell_type": "markdown",
   "metadata": {},
   "source": [
    "Novo polinômio que interpola os n+1 pontos (Grau n):\n",
    "$p_n(x) = p_{n-1}(x) + g_n(x)$ (1)\n",
    "\n",
    "Obs. para $p_n$ ter grau n, g tem que ter grau n"
   ]
  },
  {
   "cell_type": "markdown",
   "metadata": {},
   "source": [
    "Obs. O novo ponto pode estar entre os pontos antigos ou para além deles"
   ]
  },
  {
   "cell_type": "markdown",
   "metadata": {},
   "source": [
    "\\begin{gather*}\n",
    "g_n(x) = p_n(x) - p_{n-1}(x)\\\\\n",
    "g_n(x_0) = 0 \\\\\n",
    "g_n(x_1) = 0 \\\\\n",
    "g_n(x_2) = 0 \\\\\n",
    "\\end{gather*}"
   ]
  },
  {
   "cell_type": "markdown",
   "metadata": {},
   "source": [
    "Ou seja, todos os \"n\" nos (anteriores) de interpolação são raízes de $g_n$:"
   ]
  },
  {
   "cell_type": "markdown",
   "metadata": {},
   "source": [
    "\\begin{gather*}\n",
    "g_n(x) = a(x - x_0)(x - x_1)(x - x_2) ... (x - x_{n-1}) \\\\\n",
    "g_n(x) = a_n \\prod_{i=0}^{n-1}(x - x_i) & (2)\\\\\n",
    "x = x_n, p_n(x_n) = f_n \\\\\n",
    "g_n(x_n) = f_n - p_{n-1}(x_n)\\\\\n",
    "a = \\frac{f_n - p_{n-1}(x_n)}{(x_n - x_0)(x_n - x_1)(x_n - x_2) ... (x_n - x_{n-1})} & (3)\n",
    "\\end{gather*}\n"
   ]
  },
  {
   "cell_type": "markdown",
   "metadata": {},
   "source": [
    "Ex: determine, $p_0$, $p_1$, $p_2$ e $p_3$ para os pontos abaixo:"
   ]
  },
  {
   "cell_type": "markdown",
   "metadata": {},
   "source": [
    "<table style=\"border: 1px solid black; text-align: center;\">\n",
    "    <tr style=\"border: 1px solid black;\">\n",
    "        <th style=\"border: 1px solid black;\">$x_i$ (nos)</th>\n",
    "        <th style=\"border: 1px solid black;\">$f(x_i)$</th>\n",
    "    </tr>\n",
    "    <tr style=\"border: 1px solid black;\">\n",
    "        <td style=\"border: 1px solid black;\">$x_0 = 1,0$</td>\n",
    "        <td style=\"border: 1px solid black;\">$f(x_0) = -0,5000$</td>\n",
    "    </tr>\n",
    "    <tr style=\"border: 1px solid black;\">\n",
    "        <td style=\"border: 1px solid black;\">$x_1 = 1,5$</td>\n",
    "        <td style=\"border: 1px solid black;\">$f(x_1) = -0,0945$</td>\n",
    "    </tr>\n",
    "    <tr style=\"border: 1px solid black;\">\n",
    "        <td style=\"border: 1px solid black;\">$x_2 = 2,0$</td>\n",
    "        <td style=\"border: 1px solid black;\">$f(x_2) = 0,1931$</td>\n",
    "    </tr>\n",
    "    <tr style=\"border: 1px solid black;\">\n",
    "        <td style=\"border: 1px solid black;\">$x_3 = 2,5$</td>\n",
    "        <td style=\"border: 1px solid black;\">$f(x_3) = 0,4163$</td>\n",
    "    </tr>\n",
    "</table>"
   ]
  },
  {
   "cell_type": "markdown",
   "metadata": {},
   "source": [
    "a) $p_0(x) = f_0 = -0,5000$"
   ]
  },
  {
   "cell_type": "markdown",
   "metadata": {},
   "source": [
    "b) Pela eq (1): $p_1(x) = p_{0}(x) + g_1(x)$"
   ]
  },
  {
   "cell_type": "markdown",
   "metadata": {},
   "source": [
    "de (2): $g_1(x) = a_1(x - x_0)$"
   ]
  },
  {
   "cell_type": "markdown",
   "metadata": {},
   "source": [
    "de (3): "
   ]
  },
  {
   "cell_type": "markdown",
   "metadata": {},
   "source": [
    "\\begin{gather*}\n",
    "a_1 = \\frac{f_1 - p_{0}(x_1)}{(x_1 - x_0)} \\\\\n",
    "a_1 =  \\frac{-0,0945 -(-0,5000)}{(1,5000 - 1,0000)}\n",
    "a_1 = 0,8110 \\\\\n",
    "g_1(x) = 0,8110(x-1,0) = 0,8110x - 0,8110 \\\\\n",
    "p_1(x) = 0,8110x - 1,3110 \n",
    "\\end{gather*}\n"
   ]
  },
  {
   "cell_type": "markdown",
   "metadata": {},
   "source": [
    "c) \n",
    "\\begin{gather*}\n",
    "p_2(x) = p_{1}(x) + g_2(x)\\\\\n",
    "g_1(x) = a_2(x - x_0)(x - x_1)\\\\\n",
    "a_2 = \\frac{f_2 - p_{1}(x_2)}{(x_2 - x_0)(x_2 - x_1)} \\\\\n",
    "p_1(x_2) = p_0(x_2) + g_1(x_2) \\\\\n",
    "p_1(x_2) = p_0(x_2) + a_1(x_2 - x_0) \\\\\n",
    "p_1(x_2) = f_0 + a_1(x_2 - x_0) \\\\\n",
    "a_2 = \\frac{f_2 - f_0 + a_1(x_2 - x_0)}{(x_2 - x_0)(x_2 - x_1)} \\\\\n",
    "a_2 = \\frac{f_2 - f_0 + a_1(x_2 - x_0)}{(x_2 - x_0)(x_2 - x_1)} \\\\\n",
    "\\end{gather*}\n"
   ]
  },
  {
   "cell_type": "markdown",
   "metadata": {},
   "source": [
    "<h1>Lista 1</h1> "
   ]
  },
  {
   "cell_type": "markdown",
   "metadata": {},
   "source": [
    "<h2>Numero 1</h2> "
   ]
  },
  {
   "cell_type": "markdown",
   "metadata": {},
   "source": [
    "3 iterações do método da falsa posição → O erro é dado pela fórmula abaixo, e como todos intervalos (b-a) são 1:\n",
    "\\begin{gather*}\n",
    "\\varepsilon_{n+1} = \\frac{b - a}{2} = \\frac{1}{2} * \\frac{1}{2} * \\frac{1}{2} = \\frac{1}{8} = 0,1\n",
    "\\end{gather*}\n",
    "2 iterações do método de Newton → O erro é de ordem quadrática:\n",
    "\\begin{gather*}\n",
    "\\varepsilon_{n+1} = ((0,1)^2)^2 = 0,0001\n",
    "\\end{gather*}\n",
    "Assim, utilizaremos 6 casas decimais para obtermos uma margem razoável para o erro de 4 casas decimal encontrado"
   ]
  },
  {
   "cell_type": "markdown",
   "metadata": {},
   "source": [
    "Os zeros (raízes) das funções e suas derivadas foram encontrados com wolfram alpha "
   ]
  },
  {
   "cell_type": "markdown",
   "metadata": {},
   "source": [
    "a) raiz de sen(x) é $\\pi$, derivada de sen(x) é cos(x) "
   ]
  },
  {
   "cell_type": "code",
   "execution_count": 9,
   "metadata": {},
   "outputs": [
    {
     "name": "stdout",
     "output_type": "stream",
     "text": [
      "Valor de pi com metodo da falsa posiçao:  3.14159\n",
      "Quantidade de loops executados:  3\n",
      "Valor de pi com o método de Newton:  3.14159\n",
      "Quantidade de loops executados:  2\n"
     ]
    }
   ],
   "source": [
    "import sympy as sp\n",
    "from sympy import *\n",
    "import numpy as np\n",
    "import math\n",
    "\n",
    "a = 3\n",
    "b = 4\n",
    "c = 0\n",
    "fa = 0\n",
    "fb = 0\n",
    "fc = 0\n",
    "qntloops = 0\n",
    "\n",
    "while(qntloops < 3):\n",
    "\n",
    "    fa = N(sin(a), 6);\n",
    "    fb = N(sin(b), 6);\n",
    "\n",
    "    c = (fa*b - fb*a) / (fa - fb);\n",
    "    fc = N(sin(c), 6);\n",
    "\n",
    "    if(fc*fa < 0):\n",
    "\n",
    "        b = c\n",
    "\n",
    "    elif(fc == 0):\n",
    "\n",
    "        break\n",
    "\n",
    "    else:\n",
    "\n",
    "        a = c\n",
    "        \n",
    "    qntloops += 1\n",
    "    \n",
    "print(\"Valor de pi com metodo da falsa posiçao: \", c)\n",
    "print(\"Quantidade de loops executados: \", qntloops)\n",
    "\n",
    "qntloops = 0\n",
    "\n",
    "while qntloops < 2:\n",
    "    c = c - sp.N(sp.N(sp.sin(c), 6) / sp.N(sp.cos(c), 6), 6)\n",
    "    qntloops += 1\n",
    "\n",
    "print(\"Valor de pi com o método de Newton: \", c)\n",
    "print(\"Quantidade de loops executados: \", qntloops)"
   ]
  },
  {
   "cell_type": "markdown",
   "metadata": {},
   "source": [
    "b) raiz é $\\sqrt{e}$ e derivada é $\\frac{1}{x}$"
   ]
  },
  {
   "cell_type": "code",
   "execution_count": 12,
   "metadata": {},
   "outputs": [
    {
     "name": "stdout",
     "output_type": "stream",
     "text": [
      "Valor da raiz com metodo da falsa posiçao:  1.65199\n",
      "Quantidade de loops executados:  3\n",
      "Valor da raiz com o método de Newton:  1.64872\n",
      "Quantidade de loops executados:  2\n"
     ]
    }
   ],
   "source": [
    "import sympy as sp\n",
    "from sympy import *\n",
    "import numpy as np\n",
    "import math\n",
    "\n",
    "a = 1\n",
    "b = 2\n",
    "c = 0\n",
    "fa = 0\n",
    "fb = 0\n",
    "fc = 0\n",
    "qntloops = 0\n",
    "\n",
    "while(qntloops < 3):\n",
    "\n",
    "    fa = N(log(a) - 1/2, 6);\n",
    "    fb = N(log(b) - 1/2, 6);\n",
    "\n",
    "    c = (fa*b - fb*a) / (fa - fb);\n",
    "    fc = N(log(c) - 1/2, 6);\n",
    "\n",
    "    if(fc*fa < 0):\n",
    "\n",
    "        b = c\n",
    "\n",
    "    elif(fc == 0):\n",
    "\n",
    "        break\n",
    "\n",
    "    else:\n",
    "\n",
    "        a = c\n",
    "        \n",
    "    qntloops += 1\n",
    "    \n",
    "print(\"Valor da raiz com metodo da falsa posiçao: \", c)\n",
    "print(\"Quantidade de loops executados: \", qntloops)\n",
    "\n",
    "qntloops = 0\n",
    "\n",
    "while qntloops < 2:\n",
    "    c = c - sp.N(sp.N(log(c) - 1/2, 6) / sp.N(1/c, 6), 6)\n",
    "    qntloops += 1\n",
    "\n",
    "print(\"Valor da raiz com o método de Newton: \", c)\n",
    "print(\"Quantidade de loops executados: \", qntloops)"
   ]
  },
  {
   "cell_type": "markdown",
   "metadata": {},
   "source": [
    "c) a raiz a ser encontrada é $\\frac{5}{2}$ - $\\frac{\\sqrt{17}}{2}$ e a derivada é $2x - 5$"
   ]
  },
  {
   "cell_type": "code",
   "execution_count": 13,
   "metadata": {},
   "outputs": [
    {
     "name": "stdout",
     "output_type": "stream",
     "text": [
      "Valor da raiz com metodo da falsa posiçao:  0.439024\n",
      "Quantidade de loops executados:  3\n",
      "Valor da raiz com o método de Newton:  0.438447\n",
      "Quantidade de loops executados:  2\n"
     ]
    }
   ],
   "source": [
    "import numpy as np\n",
    "import math\n",
    "\n",
    "a = 0\n",
    "b = 1\n",
    "c = 0\n",
    "fa = 0\n",
    "fb = 0\n",
    "fc = 0\n",
    "qntloops = 0\n",
    "\n",
    "while(qntloops < 3):\n",
    "\n",
    "    fa = N(a**2 - 5*a + 2, 6);\n",
    "    fb = N(b**2 - 5*b + 2, 6);\n",
    "\n",
    "    c = (fa*b - fb*a) / (fa - fb);\n",
    "    fc = N(c**2 - 5*c + 2, 6);\n",
    "\n",
    "    if(fc*fa < 0):\n",
    "\n",
    "        b = c\n",
    "\n",
    "    elif(fc == 0):\n",
    "\n",
    "        break\n",
    "\n",
    "    else:\n",
    "\n",
    "        a = c\n",
    "        \n",
    "    qntloops += 1\n",
    "    \n",
    "print(\"Valor da raiz com metodo da falsa posiçao: \", c)\n",
    "print(\"Quantidade de loops executados: \", qntloops)\n",
    "\n",
    "qntloops = 0\n",
    "\n",
    "while qntloops < 2:\n",
    "    c = c - sp.N(sp.N(c**2 - 5*c + 2, 6) / sp.N(2*c - 5, 6), 6)\n",
    "    qntloops += 1\n",
    "\n",
    "print(\"Valor da raiz com o método de Newton: \", c)\n",
    "print(\"Quantidade de loops executados: \", qntloops)"
   ]
  },
  {
   "cell_type": "markdown",
   "metadata": {},
   "source": [
    "d) a raiz a ser encontrada é $\\frac{5}{2}$ + $\\frac{\\sqrt{17}}{2}$ e a derivada é $2x - 5$"
   ]
  },
  {
   "cell_type": "code",
   "execution_count": 15,
   "metadata": {},
   "outputs": [
    {
     "name": "stdout",
     "output_type": "stream",
     "text": [
      "Valor da raiz com metodo da falsa posiçao:  4.56098\n",
      "Quantidade de loops executados:  3\n",
      "Valor da raiz com o método de Newton:  4.56155\n",
      "Quantidade de loops executados:  2\n"
     ]
    }
   ],
   "source": [
    "import numpy as np\n",
    "import math\n",
    "\n",
    "a = 4\n",
    "b = 5\n",
    "c = 0\n",
    "fa = 0\n",
    "fb = 0\n",
    "fc = 0\n",
    "qntloops = 0\n",
    "\n",
    "while(qntloops < 3):\n",
    "\n",
    "    fa = N(a**2 - 5*a + 2, 6);\n",
    "    fb = N(b**2 - 5*b + 2, 6);\n",
    "\n",
    "    c = (fa*b - fb*a) / (fa - fb);\n",
    "    fc = N(c**2 - 5*c + 2, 6);\n",
    "\n",
    "    if(fc*fa < 0):\n",
    "\n",
    "        b = c\n",
    "\n",
    "    elif(fc == 0):\n",
    "\n",
    "        break\n",
    "\n",
    "    else:\n",
    "\n",
    "        a = c\n",
    "        \n",
    "    qntloops += 1\n",
    "    \n",
    "print(\"Valor da raiz com metodo da falsa posiçao: \", c)\n",
    "print(\"Quantidade de loops executados: \", qntloops)\n",
    "\n",
    "qntloops = 0\n",
    "\n",
    "while qntloops < 2:\n",
    "    c = c - sp.N(sp.N(c**2 - 5*c + 2, 6) / sp.N(2*c - 5, 6), 6)\n",
    "    qntloops += 1\n",
    "\n",
    "print(\"Valor da raiz com o método de Newton: \", c)\n",
    "print(\"Quantidade de loops executados: \", qntloops)"
   ]
  },
  {
   "cell_type": "markdown",
   "metadata": {},
   "source": [
    "<h2>Numero 2</h2> "
   ]
  },
  {
   "cell_type": "code",
   "execution_count": null,
   "metadata": {},
   "outputs": [],
   "source": [
    "import numpy as np\n",
    "import math\n",
    "\n",
    "a = 0\n",
    "b = 1\n",
    "c = 0\n",
    "fa = 0\n",
    "fb = 0\n",
    "fc = 0\n",
    "qntloops = 0\n",
    "\n",
    "while(c != 0.438447):\n",
    "\n",
    "    fa = N(a**2 - 5*a + 2, 6);\n",
    "    fb = N(b**2 - 5*b + 2, 6);\n",
    "\n",
    "    c = (fa*b - fb*a) / (fa - fb);\n",
    "    fc = N(c**2 - 5*c + 2, 6);\n",
    "\n",
    "    if(fc*fa < 0):\n",
    "\n",
    "        b = c\n",
    "\n",
    "    elif(fc == 0):\n",
    "\n",
    "        break\n",
    "\n",
    "    else:\n",
    "\n",
    "        a = c\n",
    "        \n",
    "    qntloops += 1\n",
    "    \n",
    "print(\"Valor da raiz com metodo da falsa posiçao: \", c)\n",
    "print(\"Quantidade de loops executados: \", qntloops)"
   ]
  }
 ],
 "metadata": {
  "kernelspec": {
   "display_name": "myenv",
   "language": "python",
   "name": "myenv"
  },
  "language_info": {
   "codemirror_mode": {
    "name": "ipython",
    "version": 3
   },
   "file_extension": ".py",
   "mimetype": "text/x-python",
   "name": "python",
   "nbconvert_exporter": "python",
   "pygments_lexer": "ipython3",
   "version": "3.11.4"
  }
 },
 "nbformat": 4,
 "nbformat_minor": 4
}
