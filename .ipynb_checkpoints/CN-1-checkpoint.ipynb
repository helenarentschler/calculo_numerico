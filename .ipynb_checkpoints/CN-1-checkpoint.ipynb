{
 "cells": [
  {
   "cell_type": "markdown",
   "metadata": {},
   "source": [
    "<h1 style=\"color: navy; text-align:center\">Representação por ponto fixo</h1> \n",
    "<p style=\"text-align:center\">delimita o número de casas decimais</p> \n",
    "\n",
    "<h1 style=\"color: navy; text-align:center\">Representação por ponto flutuante</h1> \n",
    "<p style=\"text-align:center\">delimita o número de algarismos significativos</p> \n"
   ]
  },
  {
   "cell_type": "markdown",
   "metadata": {},
   "source": [
    "<h1 style=\"color: navy; text-align:center\">Erro</h1> "
   ]
  },
  {
   "cell_type": "markdown",
   "metadata": {},
   "source": [
    " \\begin{equation*}\n",
    "a = ã + ε \n",
    " \\end{equation*}\n"
   ]
  },
  {
   "cell_type": "markdown",
   "metadata": {},
   "source": [
    " \\begin{equation*}\n",
    " \\sqrt{2} = 1,4142 + 0,0000135\n",
    " \\end{equation*}\n"
   ]
  },
  {
   "cell_type": "markdown",
   "metadata": {},
   "source": [
    "a = Valor verdadeiro da medida\n",
    "\n",
    "ã = valor aproximado da medida\n",
    "\n",
    "ε = Erro"
   ]
  },
  {
   "cell_type": "markdown",
   "metadata": {},
   "source": [
    "<h1 style=\"color: navy; text-align:center\">Erro relativo</h1> "
   ]
  },
  {
   "cell_type": "markdown",
   "metadata": {},
   "source": [
    " \\begin{equation*}\n",
    "|εr| = \\fracβã\n",
    " \\end{equation*}"
   ]
  },
  {
   "cell_type": "markdown",
   "metadata": {},
   "source": [
    "**εr = Erro relativo**\n",
    "\n",
    "β = Limitante do Erro (erro maximo): parametro do metodo\n",
    "\n",
    "ã = valor aproximado"
   ]
  },
  {
   "cell_type": "markdown",
   "metadata": {},
   "source": [
    "---"
   ]
  },
  {
   "cell_type": "markdown",
   "metadata": {},
   "source": [
    "<h1 style=\"color: purple; text-align:center\">Métodos iterativos para encontrar a raiz de um polinômio</h1> "
   ]
  },
  {
   "cell_type": "markdown",
   "metadata": {},
   "source": [
    "<h2 style=\"color: purple; text-align:center\">Método da Bisseção</h2> "
   ]
  },
  {
   "cell_type": "markdown",
   "metadata": {},
   "source": [
    "<img src=\"bisection.gif\">    "
   ]
  },
  {
   "cell_type": "markdown",
   "metadata": {},
   "source": [
    "Execução: dividir um intervalo (a , b) em que a raiz se encontra pela metade, encontrando um ponto (c, f(c)). Decidir entre os dois intervalos resultantes: (a , c) ou (c , b) aquele em que a função muda de sinal, pois é ali onde ha uma raiz. Dividir novamente…\n",
    "\n",
    "Informações:\n",
    "- f é contínua\n",
    "- (a , b) com $f(a)*f(b)$ < 0, ou seja, a função troca de sinal, portanto há uma raiz no intervalo (a, b)\n",
    "- $β_{max}$: erro máximo tolerado ou precisão mínima requerida (critério de parada) ou tamanho do intervalo.\n",
    "- Teorema do Valor Intermediário: é condição suficiente para o método\n",
    "- Redução linear do erro: A cada subdivisão do intervalo, ou a cada interação do código, o erro cai pela metade"
   ]
  },
  {
   "cell_type": "markdown",
   "metadata": {},
   "source": [
    "\\begin{gather*}\n",
    "\\varepsilon_{n+1} = \\frac{b - a}{2} \\\\\n",
    "\\varepsilon_{n+1} = \\frac{\\varepsilon_{n}}{2}\n",
    "\\end{gather*}"
   ]
  },
  {
   "cell_type": "markdown",
   "metadata": {},
   "source": [
    "Exemplo: encontrar a raiz positiva do polinômio  $y = x^2-2$ $(√2)$ "
   ]
  },
  {
   "cell_type": "code",
   "execution_count": 36,
   "metadata": {},
   "outputs": [
    {
     "name": "stdout",
     "output_type": "stream",
     "text": [
      "Raiz de 2:  1.4142141342163086\n",
      "Quantidade de loops executados:  20\n"
     ]
    }
   ],
   "source": [
    "inf = 1\n",
    "sup = 2\n",
    "med = 0\n",
    "prec = 0.000001\n",
    "finf = 0\n",
    "fsup = 0\n",
    "fmed = 0;\n",
    "qntloops = 0\n",
    "\t\n",
    "while((sup - inf) > prec):\n",
    "\n",
    "    med = (sup + inf) / 2\n",
    "    fmed = pow(med, 2) - 2\n",
    "    finf = pow(inf, 2) - 2\n",
    "    fsup = pow(sup, 2) - 2\n",
    "    \n",
    "    if(finf*fmed < 0):\n",
    "\n",
    "        sup = med\n",
    "\n",
    "    elif(fmed == 0):\n",
    "\n",
    "        break\n",
    "\n",
    "    else:\n",
    "\n",
    "        inf = med\n",
    "        \n",
    "    qntloops += 1\n",
    "\n",
    "print(\"Raiz de 2: \", med)\n",
    "print(\"Quantidade de loops executados: \", qntloops)"
   ]
  },
  {
   "cell_type": "markdown",
   "metadata": {},
   "source": [
    "---"
   ]
  },
  {
   "cell_type": "markdown",
   "metadata": {},
   "source": [
    "<h2 style=\"color: purple; text-align:center\">Método da falsa posição</h2> "
   ]
  },
  {
   "cell_type": "markdown",
   "metadata": {},
   "source": [
    "<div style=\"margin: 0 auto;\">\n",
    "    <img src=\"RegulaFalsi.gif\">\n",
    "</div>"
   ]
  },
  {
   "cell_type": "markdown",
   "metadata": {},
   "source": [
    "Premissa: reta é uma aproximação melhor da função (?) \n",
    "\n",
    "Execução: Escolhemos um intervalo (a , b) em que a raiz de encontra, traçamos uma reta do ponto f(a) até o ponto f(b). A raiz dessa reta sera o ponto c (a falsa posição da raiz). Se f(c) * f(a) < 0, o novo extremo b deve ser c. Do contrario, o novo extremo a deve ser c. Faz-se o mesmo procedimento para o novo intervalo.\n",
    "\n",
    "Fazemos o desenvolvimento do sistema de equações de reta a seguir:"
   ]
  },
  {
   "cell_type": "markdown",
   "metadata": {},
   "source": [
    "\\begin{cases}\n",
    "f(a) & = & αa & + & β\\\\f(b) & = & αb & + & β\\\\f(c) & = & 0 & = & αc & + & β \n",
    "\\end{cases}"
   ]
  },
  {
   "cell_type": "markdown",
   "metadata": {},
   "source": [
    "- A primeira é a equação da reta aplicada no ponto a\n",
    "- A segunda é a equação da reta aplicada no ponto b\n",
    "- A terceira é a equação da reta aplicada no ponto c que é a raiz da funçao, ou seja f(c) = 0\n",
    "- α é o coeficiente angular e β o linear\n",
    "- Como resultado do sistema temos:"
   ]
  },
  {
   "cell_type": "markdown",
   "metadata": {},
   "source": [
    "\\begin{equation*}\n",
    "c  = \\frac{f(a)b - f(b)a}{f(a)-f(b)}\n",
    "\\end{equation*}"
   ]
  },
  {
   "cell_type": "markdown",
   "metadata": {},
   "source": [
    "- Onde o ponto c (falsa posição) é dado em função de a, b, f(a) e f(b)\n",
    "  \n",
    "O critério de parada é um erro máximo β associado não ao intervalo (a , b), mas ao quão próximo f(c) esta de 0, ou seja, o quão próximo está de ser uma raiz.\n",
    "- $|f(c)|< β$\n"
   ]
  },
  {
   "cell_type": "markdown",
   "metadata": {},
   "source": [
    "Cada subdivisão do intervalo, β diminui em…"
   ]
  },
  {
   "cell_type": "markdown",
   "metadata": {},
   "source": [
    "Exemplo: encontrar a raiz positiva do polinômio  $y = x^2-2$ $(√2)$"
   ]
  },
  {
   "cell_type": "code",
   "execution_count": 37,
   "metadata": {},
   "outputs": [
    {
     "name": "stdout",
     "output_type": "stream",
     "text": [
      "Valor da raiz de 2:  1.4142134998513232\n",
      "Quantidade de loops executados:  9\n"
     ]
    }
   ],
   "source": [
    "a = 1\n",
    "b = 2\n",
    "c = 0\n",
    "fa = 0\n",
    "fb = 0\n",
    "fc = 1\n",
    "B = 0.000001\n",
    "qntloops = 0\n",
    "\n",
    "while(abs(fc) > B):\n",
    "\n",
    "    fa = pow(a, 2) - 2;\n",
    "    fb = pow(b, 2) - 2;\n",
    "\n",
    "    c = (fa*b - fb*a) / (fa - fb);\n",
    "    fc = pow(c, 2) - 2;\n",
    "\n",
    "    if(fc*fa < 0):\n",
    "\n",
    "        b = c\n",
    "\n",
    "    elif(fc == 0):\n",
    "\n",
    "        break\n",
    "\n",
    "    else:\n",
    "\n",
    "        a = c\n",
    "        \n",
    "    qntloops += 1\n",
    "    \n",
    "print(\"Valor da raiz de 2: \", c);\n",
    "print(\"Quantidade de loops executados: \", qntloops)"
   ]
  },
  {
   "cell_type": "markdown",
   "metadata": {},
   "source": [
    "---"
   ]
  },
  {
   "cell_type": "markdown",
   "metadata": {},
   "source": [
    "<h2 style=\"color: purple;text-align:center;\" >Método de Newton</h2>"
   ]
  },
  {
   "cell_type": "markdown",
   "metadata": {},
   "source": [
    "<img src=\"newton.gif\">"
   ]
  },
  {
   "cell_type": "markdown",
   "metadata": {},
   "source": [
    "Execução: Arbitramos um ponto $x_0$ bem próximo à raiz do polinômio. Calculamos a reta y tangente a $f(x_0)$, ou seja, a reta y cujo coeficiente angular seja a derivada $f’(x_0)$. Calculamos o ponto onde a reta intercepta o eixo x, ou seja, o ponto $x_1$ em que $y(x_1) = 0$. Calculamos $f(x_1)$ e logo depois a reta tangente a f(x1)…"
   ]
  },
  {
   "cell_type": "markdown",
   "metadata": {},
   "source": [
    "Para acharmos o próximo ponto possível para raiz: $x_{i+1}$ em função do ponto $x_i$, efetuamos o seguinte desenvolvimento:"
   ]
  },
  {
   "cell_type": "markdown",
   "metadata": {},
   "source": [
    "\\begin{gather*}\n",
    "y(x) = αx + β\\\\ \n",
    "y(x_0) = f(x_0) = f'(x_0)x_0 + β \n",
    "\\\\ β = f(x_0) -f'(x_0)x_0\n",
    "\\\\ mas, y(x_1) = 0 \n",
    "\\\\ y(x_1) = 0 = f'(x_0)x_1 +  f(x_0) -f'(x_0)x_0\n",
    "\\\\ x_1 = x_0 - \\frac{f(x_0)}{f'(x_0)} \n",
    "\\end{gather*}"
   ]
  },
  {
   "cell_type": "markdown",
   "metadata": {},
   "source": [
    "Podemos generalizar (6) para:"
   ]
  },
  {
   "cell_type": "markdown",
   "metadata": {},
   "source": [
    "\\begin{equation*} x_{i+1} = x_i - \\frac{f(x_i)}{f'(x_i)} \\end{equation*}"
   ]
  },
  {
   "cell_type": "markdown",
   "metadata": {},
   "source": [
    "Obs.: ($f'(x_{i})$) não pode ser 0 para o método funcionar. A derivada zero indicaria uma mudança de comportamento da função nas proximidades da raiz, fazendo-se necessário refinar mais o valor de $x_{0}$ (achar uma mais próximo da raiz) com outros métodos como o da bisseção."
   ]
  },
  {
   "cell_type": "markdown",
   "metadata": {},
   "source": [
    "Informações:\n",
    "- a função f deve ser diferenciável\n",
    "- β é a tolerância de erro, geralmente $10^{-k}$ com k dado pela função (critério de parada)\n",
    "- Nmax é o número máximo de iterações geralmente dado por 2k (critério de parada)\n",
    "— Erro β analisado na Série de Taylor"
   ]
  },
  {
   "cell_type": "markdown",
   "metadata": {},
   "source": [
    "Exemplo: encontrar a raiz positiva do polinômio  $y = x^2-2$ $(√2)$"
   ]
  },
  {
   "cell_type": "code",
   "execution_count": 38,
   "metadata": {},
   "outputs": [
    {
     "name": "stdout",
     "output_type": "stream",
     "text": [
      "Raiz de 2 é:  1.4142135623746899\n",
      "Quantidade de loops foi:  3\n"
     ]
    }
   ],
   "source": [
    "x = 1.5;\n",
    "fx = 0;\n",
    "derx = 0; \n",
    "B = 0.0001;\n",
    "i = 0\n",
    "\n",
    "while(i < 100):\n",
    "    fx = pow(x, 2) - 2\n",
    "    derx = 2*x\n",
    "    x = x - fx/derx\n",
    "    i += 1;\n",
    "\n",
    "    if(fx < 0.0001):\n",
    "        break\n",
    "\n",
    "print(\"Raiz de 2 é: \", x);\n",
    "print(\"Quantidade de loops foi: \", i)"
   ]
  },
  {
   "cell_type": "markdown",
   "metadata": {},
   "source": [
    "---"
   ]
  },
  {
   "cell_type": "markdown",
   "metadata": {},
   "source": [
    "<h1 style=\"color: green; text-align:center\">Série de Taylor</h1> "
   ]
  },
  {
   "cell_type": "markdown",
   "metadata": {},
   "source": [
    "Objetivo: aproximar uma função conhecida e diferenciável para um polinômio de grau “n”"
   ]
  },
  {
   "cell_type": "markdown",
   "metadata": {},
   "source": [
    "\\begin{equation*}\n",
    "Pn(x) = a_0 + a_1x + a_2x^2 + a_3x^3 + ... + a_nx^n\n",
    "\\end{equation*}"
   ]
  },
  {
   "cell_type": "markdown",
   "metadata": {},
   "source": [
    "Propriedades convenientes de polinômios:"
   ]
  },
  {
   "cell_type": "markdown",
   "metadata": {},
   "source": [
    "- Contínuos e Diferenciáveis\n",
    "- Fáceis de operar"
   ]
  },
  {
   "cell_type": "markdown",
   "metadata": {},
   "source": [
    "Para achar os valores dos coeficientes:"
   ]
  },
  {
   "cell_type": "markdown",
   "metadata": {},
   "source": [
    "\\begin{gather*}\n",
    "f(x) = a_0 + a_1x + a_2x^2 + a_3x^3 ...\\\\\n",
    "x = 0 \\rightarrow f(0) = a_0\\\\\n",
    "f'(x) = a_1 + 2a_2x + 3a_3x^2\\\\\n",
    "x = 0 \\rightarrow f'(0) = a_1 \\rightarrow a_1 = \\frac {f'(0)}{1!}\\\\\n",
    "f''(x) = 2\\cdot1a_2 + 3\\cdot2a_3x ... \\\\\n",
    "x = 0 \\rightarrow f''(0) = 2\\cdot1a_2 \\rightarrow a_2 = \\frac {f''(0)}{2!}\\\\\n",
    "\\end{gather*}"
   ]
  },
  {
   "cell_type": "markdown",
   "metadata": {},
   "source": [
    "A formula geral dos coeficientes é:"
   ]
  },
  {
   "cell_type": "markdown",
   "metadata": {},
   "source": [
    "\\begin{equation*}\n",
    "a_n = \\frac {f^{[n]}(0)}{n!}\n",
    "\\end{equation*}"
   ]
  },
  {
   "cell_type": "markdown",
   "metadata": {},
   "source": [
    "Quando ha deslocamento \"s\" em relaçao a x no polinomio:"
   ]
  },
  {
   "cell_type": "markdown",
   "metadata": {},
   "source": [
    "\\begin{equation*}\n",
    "a_n = \\frac {f^{[n]}(s)}{n!}\n",
    "\\end{equation*}"
   ]
  },
  {
   "cell_type": "markdown",
   "metadata": {},
   "source": [
    "- \"s\" é chamado de centro de série"
   ]
  },
  {
   "cell_type": "markdown",
   "metadata": {},
   "source": [
    "\\begin{equation*}\n",
    "f(x-s) = a_0 + a_1(x-s) + a_2(x-s)^2 + a_3(x-s)^3 \n",
    "\\end{equation*}"
   ]
  },
  {
   "cell_type": "markdown",
   "metadata": {},
   "source": [
    "Podemos utilizar a série de Taylor para aproximar uma função conhecida a um polinômio de “n” termos. "
   ]
  },
  {
   "cell_type": "markdown",
   "metadata": {},
   "source": [
    "Exemplo: Aproximar $sen(x)$ a um $Pn(x)$ de 3 termos em torno do ponto $x = \\pi / 2$"
   ]
  },
  {
   "cell_type": "markdown",
   "metadata": {},
   "source": [
    "\\begin{gather*}\n",
    "s = \\frac{\\pi}{2}\\\\\n",
    "sen(x) = Pn(x) \\\\\n",
    "a_0 = Pn(s) = sen(\\frac{\\pi}{2}) = 1\\\\\n",
    "[sen(x)]' = [Pn(x)]'\\\\\n",
    "a_1 = \\frac{Pn'(s)}{1!} = \\frac{sen'(\\frac{\\pi}{2})}{1!} = \\frac{cos(\\frac{\\pi}{2})}{1!} = 0\\\\\n",
    "[sen(x)]'' = [Pn(x)]''\\\\\n",
    "a_2 = \\frac{Pn''(s)}{2!} = \\frac{sen''(\\frac{\\pi}{2})}{2!} = \\frac{-sen(\\frac{\\pi}{2})}{2!} = -\\frac{1}{2}\\\\\n",
    "\\end{gather*}"
   ]
  },
  {
   "cell_type": "markdown",
   "metadata": {},
   "source": [
    "Encontramos $a_0$, $a_1$ e $a_2$, temos então o polinômio:"
   ]
  },
  {
   "cell_type": "markdown",
   "metadata": {},
   "source": [
    "\\begin{equation*}Pn(x) = 1 -\\frac{1}{2}(x - \\frac{\\pi}{2})^2\\end{equation*}\n"
   ]
  },
  {
   "cell_type": "code",
   "execution_count": 39,
   "metadata": {},
   "outputs": [
    {
     "data": {
      "image/png": "[encoded data removed]",
      "text/plain": [
       "<Figure size 640x480 with 1 Axes>"
      ]
     },
     "metadata": {},
     "output_type": "display_data"
    }
   ],
   "source": [
    "from matplotlib import pyplot as plt\n",
    "import numpy as np\n",
    "import math\n",
    "\n",
    "def f(x):\n",
    "    return 1 - ((x - math.pi/2)**2)/2\n",
    "\n",
    "def h(x):\n",
    "    return np.sin(x)\n",
    "\n",
    "x = np.linspace(0, 4, 1000)\n",
    "y = f(x)\n",
    "z = h(x)\n",
    "\n",
    "plt.plot(x, y, color='r', label='Pn(x)')\n",
    "plt.plot(x, z, color='b', label='sen(x)')\n",
    "plt.legend()\n",
    "\n",
    "plt.show()"
   ]
  },
  {
   "cell_type": "markdown",
   "metadata": {},
   "source": [
    "Percebe-se pelo gráfico que $Pn(x)$ diverge cada vez mais de $sen(x)$ a medida em que se afasta do ponto $s = \\pi/2$"
   ]
  },
  {
   "cell_type": "markdown",
   "metadata": {},
   "source": [
    "Assim, considerando os pontos suficientemente próximos de s, ou seja, pontos cuja distância $|x - s|$ seja muito pequena, o polinômio encontrado é uma otina aproximação. Para pontos mais distantes de s, o polinômio deve ter mais termos."
   ]
  },
  {
   "cell_type": "code",
   "execution_count": 11,
   "metadata": {},
   "outputs": [
    {
     "name": "stdout",
     "output_type": "stream",
     "text": [
      "-1.0*x - 2.55016403987735*(0.318309886183791*x - 1)**5 + 4.97048881427684e-16*(0.318309886183791*x - 1)**4 + 5.16771278004997*(0.318309886183791*x - 1)**3 - 6.04338971932236e-16*(0.318309886183791*x - 1)**2 + 3.14159265358979\n"
     ]
    },
    {
     "data": {
      "image/png": "[encoded data removed]",
      "text/plain": [
       "<Figure size 640x480 with 1 Axes>"
      ]
     },
     "metadata": {},
     "output_type": "display_data"
    }
   ],
   "source": [
    "from matplotlib import pyplot as plt\n",
    "import sympy as sp\n",
    "from sympy import sin, exp, cos, lambdify, factorial\n",
    "from sympy.abc import x\n",
    "import numpy as np\n",
    "import math\n",
    "\n",
    "#centro de série\n",
    "s = math.pi\n",
    "\n",
    "#numero de termos desejados\n",
    "n = 6\n",
    "\n",
    "#funçao\n",
    "def f(x): \n",
    "    return sin(x)\n",
    "\n",
    "res = 0;\n",
    "fun = f(x);\n",
    "\n",
    "#encontrar polinomio de taylor\n",
    "for i in range(n):\n",
    "    res += fun.evalf(subs={x: s}) * (x - s)**i / math.factorial(i)\n",
    "    fun = sp.diff(fun,x)\n",
    "print(res)\n",
    "\n",
    "#convertendo objetos sympy para numpy\n",
    "pol = lambdify(x, res, modules=['numpy'])\n",
    "function = lambdify(x, f(x), modules=['numpy'])\n",
    "\n",
    "#limites dos eixos x e y\n",
    "x_axis = np.linspace(0, 6, 1000)\n",
    "y = pol(x_axis)\n",
    "z = function(x_axis)\n",
    "ponto_enfatizado = (s, f(s))\n",
    "\n",
    "#imprimindo grafico\n",
    "plt.plot(x_axis, y, color='r', label='Pn(x)')\n",
    "plt.plot(x_axis, z, color='b', label='f(x)')\n",
    "plt.scatter(*ponto_enfatizado, color='green', label='centro da série')\n",
    "plt.annotate('centro da série', xy=ponto_enfatizado, xytext=(3.5, 0.5),\n",
    "             arrowprops=dict(arrowstyle='->', color='green'))\n",
    "\n",
    "plt.legend()\n",
    "\n",
    "plt.show()"
   ]
  },
  {
   "cell_type": "markdown",
   "metadata": {},
   "source": [
    "---"
   ]
  },
  {
   "cell_type": "markdown",
   "metadata": {},
   "source": [
    "<h2 style=\"color: green; text-align:center\">Análise do Erro relacionado ao método de Newton</h2> "
   ]
  },
  {
   "cell_type": "markdown",
   "metadata": {},
   "source": [
    "Podemos considerar $x_{n+1}$ como $g(x_n)$ (que pende de $f(x_n)$ e $f'(x_n)$:"
   ]
  },
  {
   "cell_type": "markdown",
   "metadata": {},
   "source": [
    "\\begin{equation*} x_{n+1} = x_n - \\frac{f(x_n)}{f'(x_n)} = g(x_n)\\end{equation*}"
   ]
  },
  {
   "cell_type": "markdown",
   "metadata": {},
   "source": [
    "Considerando a raiz de $f(x)$ como s, do próprio método temos que $x_n$ tende a s:"
   ]
  },
  {
   "cell_type": "markdown",
   "metadata": {},
   "source": [
    "\\begin{gather*} \n",
    "f(s) = 0 \\\\\n",
    "\\lim_{n\\rightarrow \\infty} x_n = s\n",
    "\\end{gather*}"
   ]
  },
  {
   "cell_type": "markdown",
   "metadata": {},
   "source": [
    "Aplicando a fórmula de coeficientes do método de Taylor à função $g(x_n)$ encontramos os seguintes valores para os coeficientes do polinômio que melhor a aproxima:"
   ]
  },
  {
   "cell_type": "markdown",
   "metadata": {},
   "source": [
    "\\begin{gather*} \n",
    "a_0 = g(s) = s - \\frac{f(s)}{f'(s)} = s \\\\\n",
    "a_1 = g'(s) = 0 \\\\\n",
    "a_2 = \\frac{g''(s)}{2} = \\frac{f''(s)}{2f(s)} \\\\\n",
    "a_3 = ...\n",
    "\\end{gather*}"
   ]
  },
  {
   "cell_type": "markdown",
   "metadata": {},
   "source": [
    "\\begin{gather*} \n",
    "g(x_n) = x_{n + 1} = s + \\frac{f''(s)}{2f(s)}(x_n - s)^2 + a3(x_n - s)^3 + ...\\\\\n",
    "x_{n + 1} - s = \\frac{f''(s)}{2f(s)}(x_n - s)^2 + a3(x_n - s)^3 + ...\n",
    "\\end{gather*}"
   ]
  },
  {
   "cell_type": "markdown",
   "metadata": {},
   "source": [
    "- $x_{n+1} - s$ é a distância entre a aproximação para a raiz e a raiz em si\n",
    "- $x_n$ é a aproximação anterior"
   ]
  },
  {
   "cell_type": "markdown",
   "metadata": {},
   "source": [
    "Erro da aproximação anterior: $\\varepsilon_n = x_n - s$"
   ]
  },
  {
   "cell_type": "markdown",
   "metadata": {},
   "source": [
    "Erro da próxima aproximação: $\\varepsilon_{n + 1} = x_{n + 1} - s$"
   ]
  },
  {
   "cell_type": "markdown",
   "metadata": {},
   "source": [
    "Substituindo os erros no polinômio encontrado:"
   ]
  },
  {
   "cell_type": "markdown",
   "metadata": {},
   "source": [
    "\\begin{equation*}\n",
    "\\varepsilon_{n + 1} = \\frac{f''(s)}{2f(s)}\\varepsilon_n^2 + O(\\varepsilon_n^3) ...\n",
    "\\end{equation*}"
   ]
  },
  {
   "cell_type": "markdown",
   "metadata": {},
   "source": [
    "Percebe-se que o método de Newton é de ordem quadrática."
   ]
  },
  {
   "cell_type": "markdown",
   "metadata": {},
   "source": [
    "$O(\\varepsilon_n^3)$ são os termos de ordem $(\\varepsilon_n^3)$ ou mais. Para tais termos, o erro é maior, pois a distância entre os valores experimentais e o real ($x_n - s$) aumenta."
   ]
  },
  {
   "cell_type": "markdown",
   "metadata": {},
   "source": [
    "---"
   ]
  },
  {
   "cell_type": "markdown",
   "metadata": {},
   "source": [
    "<h1 style=\"color: blue; text-align:center\">Interpolação</h1> "
   ]
  },
  {
   "cell_type": "markdown",
   "metadata": {},
   "source": [
    "Objetivo: Encontrar polinômio de grau “n” a partir de dados tabelados"
   ]
  },
  {
   "cell_type": "markdown",
   "metadata": {},
   "source": [
    "\\begin{equation*}\n",
    "Pn(x) = a_0 + a_1x + a_2x^2 + a_3x^3 + ... + a_nx^n\n",
    "\\end{equation*}"
   ]
  },
  {
   "cell_type": "markdown",
   "metadata": {},
   "source": [
    "<table style=\"border: 1px solid black; text-align: center;\">\n",
    "    <tr style=\"border: 1px solid black;\">\n",
    "        <th style=\"border: 1px solid black;\">$x_i$</th>\n",
    "        <th style=\"border: 1px solid black;\">$f(x_i) = y_i$</th>\n",
    "        <th style=\"border: 1px solid black;\">$P_n(x_i)$</th>\n",
    "    </tr>\n",
    "    <tr style=\"border: 1px solid black;\">\n",
    "        <td style=\"border: 1px solid black;\">$x_0$</td>\n",
    "        <td style=\"border: 1px solid black;\">$y_0$</td>\n",
    "        <td style=\"border: 1px solid black;\">$P_n(x_0) = y_0$</td>\n",
    "    </tr>\n",
    "    <tr style=\"border: 1px solid black;\">\n",
    "        <td style=\"border: 1px solid black;\">$x_1$</td>\n",
    "        <td style=\"border: 1px solid black;\">$y_1$</td>\n",
    "        <td style=\"border: 1px solid black;\">$P_n(x_1) = y_1$</td>\n",
    "    </tr>\n",
    "    <tr style=\"border: 1px solid black;\">\n",
    "        <td style=\"border: 1px solid black;\">$x_2$</td>\n",
    "        <td style=\"border: 1px solid black;\">$y_2$</td>\n",
    "        <td style=\"border: 1px solid black;\">$P_n(x_2) = y_2$</td>\n",
    "    </tr>\n",
    "</table>"
   ]
  },
  {
   "cell_type": "markdown",
   "metadata": {},
   "source": [
    "Interpolar: encontrar os pontos faltantes entre $x_0$ e $x_2$, ou seja, encontrar $P_n(x) \\forall x \\in (x_0, x_2)$"
   ]
  },
  {
   "cell_type": "markdown",
   "metadata": {},
   "source": [
    "Dado um conjunto de (n + 1) pontos, qual polinômio interpolante de menor grau obtemos? "
   ]
  },
  {
   "cell_type": "markdown",
   "metadata": {},
   "source": [
    "<p style=\"color: blue;\"> a) n = 0 -> um único ponto </p>\n",
    "\n",
    "<table style=\"border: 1px solid black; text-align: center;\">\n",
    "    <tr style=\"border: 1px solid black;\">\n",
    "        <th style=\"border: 1px solid black;\">$x_i$</th>\n",
    "        <th style=\"border: 1px solid black;\">$f(x_i) = y_i$</th>\n",
    "    </tr>\n",
    "    <tr style=\"border: 1px solid black;\">\n",
    "        <td style=\"border: 1px solid black;\">$x_0$</td>\n",
    "        <td style=\"border: 1px solid black;\">$y_0$</td>\n",
    "    </tr>\n",
    "</table>"
   ]
  },
  {
   "cell_type": "markdown",
   "metadata": {},
   "source": [
    "Função constante: $Pn_0(x) = y_0$"
   ]
  },
  {
   "cell_type": "code",
   "execution_count": 41,
   "metadata": {},
   "outputs": [
    {
     "data": {
      "image/png": "[encoded data removed]",
      "text/plain": [
       "<Figure size 640x480 with 1 Axes>"
      ]
     },
     "metadata": {},
     "output_type": "display_data"
    }
   ],
   "source": [
    "from matplotlib import pyplot as plt\n",
    "import numpy as np\n",
    "import math\n",
    "\n",
    "def f(x):\n",
    "    return 1 * x**0\n",
    "\n",
    "x = np.linspace(0, 4, 1000)\n",
    "y = f(x)\n",
    "ponto_enfatizado = (2, f(2))\n",
    "\n",
    "plt.gca().xaxis.set_visible(False)\n",
    "plt.gca().yaxis.set_visible(False)\n",
    "plt.plot(x, y, color='r', label='Pn(x)')\n",
    "plt.scatter(*ponto_enfatizado, color='green', label='x0')\n",
    "plt.legend()\n",
    "\n",
    "plt.show()"
   ]
  },
  {
   "cell_type": "markdown",
   "metadata": {},
   "source": [
    "---"
   ]
  },
  {
   "cell_type": "markdown",
   "metadata": {},
   "source": [
    "<p style=\"color: blue;\"> a) n = 1 -> dois pontos </p>\n",
    "\n",
    "<table style=\"border: 1px solid black; text-align: center;\">\n",
    "    <tr style=\"border: 1px solid black;\">\n",
    "        <th style=\"border: 1px solid black;\">$x_i$</th>\n",
    "        <th style=\"border: 1px solid black;\">$f(x_i) = y_i$</th>\n",
    "    </tr>\n",
    "    <tr style=\"border: 1px solid black;\">\n",
    "        <td style=\"border: 1px solid black;\">$x_0$</td>\n",
    "        <td style=\"border: 1px solid black;\">$y_0$</td>\n",
    "    </tr>\n",
    "    <tr style=\"border: 1px solid black;\">\n",
    "        <td style=\"border: 1px solid black;\">$x_1$</td>\n",
    "        <td style=\"border: 1px solid black;\">$y_1$</td>\n",
    "    </tr>\n",
    "</table>"
   ]
  },
  {
   "cell_type": "markdown",
   "metadata": {},
   "source": [
    "Função linear: $Pn_1(x) = a_0 + a_1x$"
   ]
  },
  {
   "cell_type": "markdown",
   "metadata": {},
   "source": [
    "Para encontrar os coeficientes, resolvemos o sistema linear:"
   ]
  },
  {
   "cell_type": "markdown",
   "metadata": {},
   "source": [
    "\\begin{cases}\n",
    " a_0 + a_1x_0 = y_0\\\\\n",
    " a_0 + a_1x_1 = y_1\\\\\n",
    "\\end{cases}"
   ]
  },
  {
   "cell_type": "code",
   "execution_count": 42,
   "metadata": {},
   "outputs": [
    {
     "data": {
      "image/png": "[encoded data removed]",
      "text/plain": [
       "<Figure size 640x480 with 1 Axes>"
      ]
     },
     "metadata": {},
     "output_type": "display_data"
    }
   ],
   "source": [
    "from matplotlib import pyplot as plt\n",
    "import numpy as np\n",
    "import math\n",
    "\n",
    "def f(x):\n",
    "    return 1 + x\n",
    "\n",
    "x = np.linspace(0, 4, 1000)\n",
    "y = f(x)\n",
    "ponto_1 = (1, f(1))\n",
    "ponto_2 = (3, f(3))\n",
    "\n",
    "plt.gca().xaxis.set_visible(False)\n",
    "plt.gca().yaxis.set_visible(False)\n",
    "plt.plot(x, y, color='r', label='Pn(x)')\n",
    "plt.scatter(*ponto_1, color='green', label='x1')\n",
    "plt.scatter(*ponto_2, color='blue', label='x2')\n",
    "\n",
    "plt.legend()\n",
    "\n",
    "plt.show()"
   ]
  },
  {
   "cell_type": "markdown",
   "metadata": {},
   "source": [
    "---"
   ]
  },
  {
   "cell_type": "markdown",
   "metadata": {},
   "source": [
    "<p style=\"color: blue;\"> a) n = 2 -> três pontos </p>\n",
    "\n",
    "<table style=\"border: 1px solid black; text-align: center;\">\n",
    "    <tr style=\"border: 1px solid black;\">\n",
    "        <th style=\"border: 1px solid black;\">$x_i$</th>\n",
    "        <th style=\"border: 1px solid black;\">$f(x_i) = y_i$</th>\n",
    "    </tr>\n",
    "    <tr style=\"border: 1px solid black;\">\n",
    "        <td style=\"border: 1px solid black;\">$0$</td>\n",
    "        <td style=\"border: 1px solid black;\">-$2$</td>\n",
    "    </tr>\n",
    "    <tr style=\"border: 1px solid black;\">\n",
    "        <td style=\"border: 1px solid black;\">$1$</td>\n",
    "        <td style=\"border: 1px solid black;\">$-1$</td>\n",
    "    </tr>\n",
    "    <tr style=\"border: 1px solid black;\">\n",
    "        <td style=\"border: 1px solid black;\">$2$</td>\n",
    "        <td style=\"border: 1px solid black;\">$2$</td>\n",
    "    </tr>\n",
    "</table>"
   ]
  },
  {
   "cell_type": "markdown",
   "metadata": {},
   "source": [
    "Função quadrática: $Pn_2(x) = a_0 + a_1x + a_2x^2$"
   ]
  },
  {
   "cell_type": "markdown",
   "metadata": {},
   "source": [
    "Para encontrar os coeficientes, resolvemos o sistema linear:"
   ]
  },
  {
   "cell_type": "markdown",
   "metadata": {},
   "source": [
    "\\begin{cases}\n",
    " Pn_2(0) = -2 = a_0 + 0a_1 + (0)^2a_2\\\\\n",
    " Pn_2(1) = -1 = a_0 + 1a_1 + (1)^2a_2\\\\\n",
    " Pn_2(2) = 2 = a_0 + 2a_1 + (2)^2a_2\\\\\n",
    "\\end{cases}"
   ]
  },
  {
   "cell_type": "markdown",
   "metadata": {},
   "source": [
    "Percebe-se que as equações são linearmente independentes, ou seja, existe um único polinômio que passa pelos três pontos dados. Resolvendo o sistema, o polinômio é:\n",
    "$Pn_2(x) = x^2 - 2$"
   ]
  },
  {
   "cell_type": "code",
   "execution_count": 43,
   "metadata": {},
   "outputs": [
    {
     "data": {
      "image/png": "[encoded data removed]",
      "text/plain": [
       "<Figure size 640x480 with 1 Axes>"
      ]
     },
     "metadata": {},
     "output_type": "display_data"
    }
   ],
   "source": [
    "from matplotlib import pyplot as plt\n",
    "import numpy as np\n",
    "import math\n",
    "\n",
    "def f(x):\n",
    "    return x**2 -2\n",
    "\n",
    "x = np.linspace(0, 4, 1000)\n",
    "y = f(x)\n",
    "ponto_1 = (0, f(0))\n",
    "ponto_2 = (1, f(1))\n",
    "ponto_3 = (2, f(2))\n",
    "\n",
    "plt.plot(x, y, color='r', label='Pn(x)')\n",
    "plt.scatter(*ponto_1, color='green', label='x1')\n",
    "plt.scatter(*ponto_2, color='blue', label='x2')\n",
    "plt.scatter(*ponto_3, color='purple', label='x3')\n",
    "plt.legend()\n",
    "\n",
    "plt.show()"
   ]
  },
  {
   "cell_type": "markdown",
   "metadata": {},
   "source": [
    "---"
   ]
  },
  {
   "cell_type": "markdown",
   "metadata": {},
   "source": [
    "<h2 style=\"color: blue; text-align:center\">Polinômios de Lagrange</h2>"
   ]
  },
  {
   "cell_type": "markdown",
   "metadata": {},
   "source": [
    "Para encontrar polinômios de maior grau, a resolução de sistemas lineares se torna muito complexa. O método de Lagrange apresenta uma resolução mais rápida para esse problema:"
   ]
  },
  {
   "cell_type": "markdown",
   "metadata": {},
   "source": [
    "<table style=\"border: 1px solid black; text-align: center;\">\n",
    "    <tr style=\"border: 1px solid black;\">\n",
    "        <th style=\"border: 1px solid black;\">$x_i$ (nos)</th>\n",
    "        <th style=\"border: 1px solid black;\">$f(x_i)$</th>\n",
    "    </tr>\n",
    "    <tr style=\"border: 1px solid black;\">\n",
    "        <td style=\"border: 1px solid black;\">$x_0$</td>\n",
    "        <td style=\"border: 1px solid black;\">$f(x_0)$</td>\n",
    "    </tr>\n",
    "    <tr style=\"border: 1px solid black;\">\n",
    "        <td style=\"border: 1px solid black;\">$x_1$</td>\n",
    "        <td style=\"border: 1px solid black;\">$f(x_1)$</td>\n",
    "    </tr>\n",
    "    <tr style=\"border: 1px solid black;\">\n",
    "        <td style=\"border: 1px solid black;\">$x_2$</td>\n",
    "        <td style=\"border: 1px solid black;\">$f(x_2)$</td>\n",
    "    </tr>\n",
    "</table>"
   ]
  },
  {
   "cell_type": "markdown",
   "metadata": {},
   "source": [
    "\\begin{equation*} Pn_2(x) = l_0(x)f(x_0) + l_1(x)f(x_1) + l_2(x)f(x_2) \\end{equation*}"
   ]
  },
  {
   "cell_type": "markdown",
   "metadata": {},
   "source": [
    "Onde:"
   ]
  },
  {
   "cell_type": "markdown",
   "metadata": {},
   "source": [
    "\\begin{equation*}\n",
    "l_i(x) =\n",
    "\\begin{cases}\n",
    " 1, & se & x = x_i \\\\\n",
    " 0, & se & x = x_j, (j \\neq i)\n",
    "\\end{cases}\n",
    "\\end{equation*}"
   ]
  },
  {
   "cell_type": "markdown",
   "metadata": {},
   "source": [
    "O que garante a interpolação da seguinte forma:"
   ]
  },
  {
   "cell_type": "markdown",
   "metadata": {},
   "source": [
    "\\begin{gather*}\n",
    "Pn_2(x_0) =  f(x_0)\\\\\n",
    "Pn_2(x_1) =  f(x_1)\\\\\n",
    "Pn_2(x_2) =  f(x_2)\n",
    "\\end{gather*}"
   ]
  },
  {
   "cell_type": "markdown",
   "metadata": {},
   "source": [
    "$l_i(x)$ é configurado da seguinte forma para garantir os valores 0 ou 1:"
   ]
  },
  {
   "cell_type": "markdown",
   "metadata": {},
   "source": [
    "<table style=\"border: 1px solid black; text-align: center;\">\n",
    "    <tr style=\"border: 1px solid black;\">\n",
    "        <td>\n",
    "            \\begin{equation*}\n",
    "            l_0(x) = \\frac{(x - x_1)(x - x_2)}{(x_0 - x_1)(x_0 - x_2)}\n",
    "            \\end{equation*}\n",
    "        </td>\n",
    "        <td>\n",
    "             \\begin{gather*}\n",
    "            l_0(x_0) = 1\\\\\n",
    "            l_0(x_1) = 0\\\\\n",
    "            l_0(x_2) = 0\\\\\n",
    "            \\end{gather*}\n",
    "        </td>\n",
    "    </tr>\n",
    "    <tr style=\"border: 1px solid black;\">\n",
    "        <td>\n",
    "            \\begin{equation*}\n",
    "            l_1(x) = \\frac{(x - x_0)(x - x_2)}{(x_1 - x_0)(x_1 - x_2)}\n",
    "            \\end{equation*}\n",
    "        </td>\n",
    "        <td>\n",
    "             \\begin{gather*}\n",
    "            l_1(x_0) = 0\\\\\n",
    "            l_1(x_1) = 1\\\\\n",
    "            l_1(x_2) = 0\\\\\n",
    "            \\end{gather*}\n",
    "        </td>\n",
    "    </tr>\n",
    "    <tr style=\"border: 1px solid black;\">\n",
    "        <td>\n",
    "            \\begin{equation*}\n",
    "            l_2(x) = \\frac{(x - x_0)(x - x_1)}{(x_2 - x_0)(x_2 - x_1)}\n",
    "            \\end{equation*}\n",
    "        </td>\n",
    "        <td>\n",
    "             \\begin{gather*}\n",
    "            l_2(x_0) = 0\\\\\n",
    "            l_2(x_1) = 0\\\\\n",
    "            l_2(x_2) = 1\\\\\n",
    "            \\end{gather*}\n",
    "        </td>\n",
    "    </tr>\n",
    "</table>"
   ]
  },
  {
   "cell_type": "markdown",
   "metadata": {},
   "source": [
    "\\begin{equation}\n",
    "l_k(x)= \\prod_{i=0, i \\neq k}^{n} \\frac{(x - x_i)}{(x_k - x_i)}\n",
    "\\end{equation}"
   ]
  },
  {
   "cell_type": "markdown",
   "metadata": {},
   "source": [
    "Exemplo com entrada: (-1,7), (0,1), (1,-1), (1,-17)"
   ]
  },
  {
   "cell_type": "code",
   "execution_count": 12,
   "metadata": {},
   "outputs": [
    {
     "name": "stdin",
     "output_type": "stream",
     "text": [
      "Digite o valor de x (ou qualquer outra entrada para parar):  0\n",
      "Digite o valor de y (ou qualquer outra entrada para parar):  1\n",
      "Digite o valor de x (ou qualquer outra entrada para parar):  1\n",
      "Digite o valor de y (ou qualquer outra entrada para parar):  0\n",
      "Digite o valor de x (ou qualquer outra entrada para parar):  2\n",
      "Digite o valor de y (ou qualquer outra entrada para parar):  1\n",
      "Digite o valor de x (ou qualquer outra entrada para parar):  p\n"
     ]
    },
    {
     "name": "stdout",
     "output_type": "stream",
     "text": [
      "1.0*(x - 1)**2\n"
     ]
    },
    {
     "data": {
      "image/png": "[encoded data removed]",
      "text/plain": [
       "<Figure size 640x480 with 1 Axes>"
      ]
     },
     "metadata": {},
     "output_type": "display_data"
    }
   ],
   "source": [
    "from matplotlib import pyplot as plt\n",
    "import sympy as sp\n",
    "from sympy import sin, exp, cos, lambdify, factorial\n",
    "from sympy.abc import x\n",
    "import numpy as np\n",
    "import math\n",
    "\n",
    "# Listas para armazenar os pontos x e y\n",
    "pontos_x = []\n",
    "pontos_y = []\n",
    "\n",
    "# Solicitar ao usuário que insira os valores x e y até que deseje parar\n",
    "while True:\n",
    "    try:\n",
    "        nx = float(input(\"Digite o valor de x (ou qualquer outra entrada para parar): \"))\n",
    "        ny = float(input(\"Digite o valor de y (ou qualquer outra entrada para parar): \"))\n",
    "        \n",
    "        pontos_x.append(nx)\n",
    "        pontos_y.append(ny)\n",
    "        \n",
    "    except ValueError:\n",
    "        # O usuário digitou algo que não é um número, encerramos a coleta\n",
    "        break\n",
    "\n",
    "# Verificar se há pontos coletados\n",
    "if len(pontos_x) > 0:\n",
    "\n",
    "    #polinomio\n",
    "    p = 0\n",
    "    #base de lagrange \n",
    "    l = 1\n",
    "    \n",
    "    for k, y in zip(pontos_x, pontos_y):\n",
    "        \n",
    "        for i in pontos_x:\n",
    "            if(i != k):\n",
    "                l *= (x - i)/(k - i)\n",
    "        p += l*y\n",
    "        l = 1\n",
    "        \n",
    "    p = sp.simplify(p)\n",
    "\n",
    "    #imprimindo polinomio\n",
    "    print(p)\n",
    "    \n",
    "    #convertendo objetos sympy para numpy\n",
    "    p = lambdify(x, p, modules=['numpy'])\n",
    "    \n",
    "    #limites dos eixos x e y\n",
    "    x_axis = np.linspace(-10, 10, 1000)\n",
    "    y = p(x_axis)\n",
    "\n",
    "    #grafico de dispersao dos pontos inseridos\n",
    "    plt.scatter(pontos_x, pontos_y)\n",
    "    \n",
    "    #imprimindo grafico\n",
    "    plt.plot(x_axis, y, color='r', label='Pn(x)')\n",
    "    \n",
    "    plt.legend()\n",
    "    \n",
    "    plt.show()\n",
    "    \n",
    "else:\n",
    "    print(\"Nenhum ponto foi coletado.\")\n"
   ]
  },
  {
   "cell_type": "markdown",
   "metadata": {},
   "source": [
    "---"
   ]
  },
  {
   "cell_type": "markdown",
   "metadata": {},
   "source": [
    "<h2 style=\"color: blue; text-align:center\">Polinômios de Newton</h2>"
   ]
  },
  {
   "cell_type": "markdown",
   "metadata": {},
   "source": [
    "Objetivo: encontrar um polinômio novo que interpole n+1 pontos, a partir de um polinômio que interpola \"n\" pontos "
   ]
  },
  {
   "cell_type": "markdown",
   "metadata": {},
   "source": [
    "<table style=\"border: 1px solid black; text-align: center;\">\n",
    "    <tr style=\"border: 1px solid black;\">\n",
    "        <th style=\"border: 1px solid black;\">i</th>\n",
    "        <th style=\"border: 1px solid black;\">$x_i$ (nós)</th>\n",
    "        <th style=\"border: 1px solid black;\">$f(x_i)$</th>\n",
    "    </tr>\n",
    "    <tr style=\"border: 1px solid black;\">\n",
    "        <td style=\"border: 1px solid black;\">0</td>\n",
    "        <td style=\"border: 1px solid black;\">$x_0$</td>\n",
    "        <td style=\"border: 1px solid black;\">$f(x_0)$</td>\n",
    "    </tr>\n",
    "    <tr style=\"border: 1px solid black;\">\n",
    "        <td style=\"border: 1px solid black;\">1</td>\n",
    "        <td style=\"border: 1px solid black;\">$x_1$</td>\n",
    "        <td style=\"border: 1px solid black;\">$f(x_1)$</td>\n",
    "    </tr>\n",
    "    <tr style=\"border: 1px solid black;\">\n",
    "        <td style=\"border: 1px solid black;\">2</td>\n",
    "        <td style=\"border: 1px solid black;\">$x_2$</td>\n",
    "        <td style=\"border: 1px solid black;\">$f(x_2)$</td>\n",
    "    </tr>\n",
    "    <tr style=\"border: 1px solid black;\">\n",
    "        <td style=\"border: 1px solid black;\">3</td>\n",
    "        <td style=\"border: 1px solid black;\">$x_3$</td>\n",
    "        <td style=\"border: 1px solid black;\">$f(x_3)$</td>\n",
    "    </tr>\n",
    "</table>"
   ]
  },
  {
   "cell_type": "markdown",
   "metadata": {},
   "source": [
    "$p_{n-1}(x)$: polinômio interpolador dos \"n\" primeiros pontos (obtido por Lagrange ou outro método)"
   ]
  },
  {
   "cell_type": "markdown",
   "metadata": {},
   "source": [
    "A partir do polinômio anterior, o novo polinômio de grau \"n\" que interpola os n+1 pontos é dado por:\n",
    "\\begin{gather*} p_n(x) = p_{n-1}(x) + g_n(x) & (1) \\end {gather*}\n",
    "\n",
    "Pela fórmula, para $p_n(x)$ ter grau \"n\", $g_n(x)$ também precisa ter grau \"n\""
   ]
  },
  {
   "cell_type": "markdown",
   "metadata": {},
   "source": [
    "Obs. O novo ponto pode estar interpolado (entre os pontos antigos) ou extrapolado"
   ]
  },
  {
   "cell_type": "markdown",
   "metadata": {},
   "source": [
    "Como tanto o polinômio antigo quanto o novo devem interpolar os pontos antigos (0,1,2), todos os nós (anteriores) de interpolação são raízes de $g_n$:"
   ]
  },
  {
   "cell_type": "markdown",
   "metadata": {},
   "source": [
    "\\begin{gather*}\n",
    "g_n(x) = p_n(x) - p_{n-1}(x)\\\\\n",
    "g_n(x_0) = p_n(x_0) - p_{n-1}(x_0) = 0 \\\\\n",
    "g_n(x_1) = p_n(x_1) - p_{n-1}(x_1) = 0 \\\\\n",
    "g_n(x_2) = p_n(x_2) - p_{n-1}(x_2) = 0 \\\\\n",
    "\\end{gather*}"
   ]
  },
  {
   "cell_type": "markdown",
   "metadata": {},
   "source": [
    "Partindo disso, podemos construir a seguinte definição do polinômio $g_n(x)$:"
   ]
  },
  {
   "cell_type": "markdown",
   "metadata": {},
   "source": [
    "\\begin{gather*}\n",
    "g_n(x) = \\alpha(x - x_0)(x - x_1)(x - x_2) ... (x - x_{n-1}) \\\\\n",
    "g_n(x) = \\alpha_n \\prod_{i=0}^{n-1}(x - x_i) & (2)\n",
    "\\end{gather*}"
   ]
  },
  {
   "cell_type": "markdown",
   "metadata": {},
   "source": [
    "Podemos encontrar, então, o valor $\\alpha$ que é o coeficiente do novo termo: "
   ]
  },
  {
   "cell_type": "markdown",
   "metadata": {},
   "source": [
    "\\begin{gather*}\n",
    "x = x_n → p_n(x_n) = f(x_n) \\\\\\\\\n",
    "g_n(x_n) = f(x_n) - p_{n-1}(x_n)\\\\\\\\\n",
    "\\alpha_n = \\frac{f(x_n) - p_{n-1}(x_n)}{(x_n - x_0)(x_n - x_1)(x_n - x_2) ... (x_n - x_{n-1})} & (3)\n",
    "\\end{gather*}"
   ]
  },
  {
   "cell_type": "code",
   "execution_count": 13,
   "metadata": {},
   "outputs": [
    {
     "name": "stdin",
     "output_type": "stream",
     "text": [
      "Digite o valor de x (ou qualquer outra entrada para parar):  0\n",
      "Digite o valor de y (ou qualquer outra entrada para parar):  1\n",
      "Digite o valor de x (ou qualquer outra entrada para parar):  1\n",
      "Digite o valor de y (ou qualquer outra entrada para parar):  0\n",
      "Digite o valor de x (ou qualquer outra entrada para parar):  2\n",
      "Digite o valor de y (ou qualquer outra entrada para parar):  1\n",
      "Digite o valor de x (ou qualquer outra entrada para parar):  p\n"
     ]
    },
    {
     "ename": "TypeError",
     "evalue": "'float' object cannot be interpreted as an integer",
     "output_type": "error",
     "traceback": [
      "\u001b[0;31m---------------------------------------------------------------------------\u001b[0m",
      "\u001b[0;31mTypeError\u001b[0m                                 Traceback (most recent call last)",
      "Cell \u001b[0;32mIn[13], line 46\u001b[0m\n\u001b[1;32m     41\u001b[0m \u001b[38;5;66;03m#Ou seja, a sequência de passos foi: achar o polinômio de grau 0 → achar o coeficiente\u001b[39;00m\n\u001b[1;32m     42\u001b[0m \u001b[38;5;66;03m#$\\alpha_1$ do polinômio $g_1(x)$ → achar o polinômio $g_1(x)$ → achar o polinômio $p_1(x)$\u001b[39;00m\n\u001b[1;32m     44\u001b[0m \u001b[38;5;28;01mfor\u001b[39;00m i, j \u001b[38;5;129;01min\u001b[39;00m \u001b[38;5;28mzip\u001b[39m(pontos_x, pontos_y):\n\u001b[0;32m---> 46\u001b[0m     \u001b[38;5;28;01mfor\u001b[39;00m k \u001b[38;5;129;01min\u001b[39;00m \u001b[38;5;28;43mrange\u001b[39;49m\u001b[43m(\u001b[49m\u001b[43mi\u001b[49m\u001b[38;5;241;43m-\u001b[39;49m\u001b[38;5;241;43m1\u001b[39;49m\u001b[43m)\u001b[49m:\n\u001b[1;32m     47\u001b[0m         den \u001b[38;5;241m*\u001b[39m\u001b[38;5;241m=\u001b[39m (x \u001b[38;5;241m-\u001b[39m k) \n\u001b[1;32m     49\u001b[0m     a \u001b[38;5;241m=\u001b[39m pontos_y[i] \u001b[38;5;241m-\u001b[39m pol_ant\u001b[38;5;241m.\u001b[39mevalf(subs\u001b[38;5;241m=\u001b[39m{x: i}) \u001b[38;5;241m/\u001b[39m den\u001b[38;5;241m.\u001b[39mevalf(subs\u001b[38;5;241m=\u001b[39m{x: i})\n",
      "\u001b[0;31mTypeError\u001b[0m: 'float' object cannot be interpreted as an integer"
     ]
    }
   ],
   "source": [
    "from matplotlib import pyplot as plt\n",
    "import sympy as sp\n",
    "from sympy import sin, exp, cos, lambdify, factorial\n",
    "from sympy.abc import x\n",
    "import numpy as np\n",
    "import math\n",
    "\n",
    "# Listas para armazenar os pontos x e y\n",
    "pontos_x = []\n",
    "pontos_y = []\n",
    "\n",
    "# Solicitar ao usuário que insira os valores x e y até que deseje parar\n",
    "while True:\n",
    "    try:\n",
    "        nx = float(input(\"Digite o valor de x (ou qualquer outra entrada para parar): \"))\n",
    "        ny = float(input(\"Digite o valor de y (ou qualquer outra entrada para parar): \"))\n",
    "        \n",
    "        pontos_x.append(nx)\n",
    "        pontos_y.append(ny)\n",
    "        \n",
    "    except ValueError:\n",
    "        # O usuário digitou algo que não é um número, encerramos a coleta\n",
    "        break\n",
    "\n",
    "# Verificar se há pontos coletados\n",
    "if len(pontos_x) > 0:\n",
    "\n",
    "    #polinomio base: grau 0\n",
    "    pol = pontos_y[0];\n",
    "    #f(x0)\n",
    "    \n",
    "    f = pontos_y[0];\n",
    "\n",
    "    #coeficiente\n",
    "    a = 0;\n",
    "\n",
    "    #denominador\n",
    "    den = 1;\n",
    "\n",
    "    g = 0;\n",
    " \n",
    "    for i, j in zip(pontos_x[1:], pontos_y[1:]):\n",
    "\n",
    "        for k in range(len(pontos_x) - 1):\n",
    "            \n",
    "            den *= (x - pontos_x[k]) \n",
    "                \n",
    "        print(den)\n",
    "        try:\n",
    "            a = j - pol.evalf(subs={x: i})\n",
    "        except AttributeError as at:\n",
    "            print(\"Ocorreu uma exceção:\", at)\n",
    "            a = j - pol\n",
    "        \n",
    "        a = a / (den.evalf(subs={x: i}))        \n",
    "        print(a)\n",
    "        \n",
    "        g = a*den\n",
    "        pol += g\n",
    "\n",
    "        den = 1\n",
    "        \n",
    "    #pol = sp.simplify(pol)\n",
    "\n",
    "    #imprimindo polinomio\n",
    "    \n",
    "    #convertendo objetos sympy para numpy\n",
    "    p = lambdify(x, pol, modules=['numpy'])\n",
    "    \n",
    "    #limites dos eixos x e y\n",
    "    x_axis = np.linspace(-1, 1, 100)\n",
    "    y = p(x_axis)\n",
    "\n",
    "    #grafico de dispersao dos pontos inseridos\n",
    "    plt.scatter(pontos_x, pontos_y)\n",
    "    \n",
    "    #imprimindo grafico\n",
    "    plt.plot(x_axis, y, color='r', label='Pn(x)')\n",
    "    \n",
    "    plt.legend()\n",
    "    \n",
    "    plt.show()\n",
    "    \n",
    "else:\n",
    "    print(\"Nenhum ponto foi coletado.\")"
   ]
  },
  {
   "cell_type": "markdown",
   "metadata": {},
   "source": [
    "<h3 style=\"color: blue\">Ex: determine, a) $p_0$, b) $p_1$, c) $p_2$ e d) $p_3$ para os pontos abaixo: </h3>"
   ]
  },
  {
   "cell_type": "markdown",
   "metadata": {},
   "source": [
    "<table style=\"border: 1px solid black; text-align: center;\">\n",
    "    <tr style=\"border: 1px solid black;\">\n",
    "        <th style=\"border: 1px solid black;\">$x_i$ (nós)</th>\n",
    "        <th style=\"border: 1px solid black;\">$f(x_i)$</th>\n",
    "    </tr>\n",
    "    <tr style=\"border: 1px solid black;\">\n",
    "        <td style=\"border: 1px solid black;\">$x_0 = 1,0$</td>\n",
    "        <td style=\"border: 1px solid black;\">$f(x_0) = -0,5000$</td>\n",
    "    </tr>\n",
    "    <tr style=\"border: 1px solid black;\">\n",
    "        <td style=\"border: 1px solid black;\">$x_1 = 1,5$</td>\n",
    "        <td style=\"border: 1px solid black;\">$f(x_1) = -0,0945$</td>\n",
    "    </tr>\n",
    "    <tr style=\"border: 1px solid black;\">\n",
    "        <td style=\"border: 1px solid black;\">$x_2 = 2,0$</td>\n",
    "        <td style=\"border: 1px solid black;\">$f(x_2) = 0,1931$</td>\n",
    "    </tr>\n",
    "    <tr style=\"border: 1px solid black;\">\n",
    "        <td style=\"border: 1px solid black;\">$x_3 = 2,5$</td>\n",
    "        <td style=\"border: 1px solid black;\">$f(x_3) = 0,4163$</td>\n",
    "    </tr>\n",
    "</table>"
   ]
  },
  {
   "cell_type": "markdown",
   "metadata": {},
   "source": [
    "a) $p_0(x) = f(x_0) = -0,5000$ (polinomio constante)"
   ]
  },
  {
   "cell_type": "markdown",
   "metadata": {},
   "source": [
    "b) Pela eq (1): $p_1(x) = p_{0}(x) + g_1(x)$, de (2): $g_1(x) = \\alpha_1(x - x_0)$ e de (3):"
   ]
  },
  {
   "cell_type": "markdown",
   "metadata": {},
   "source": [
    "\\begin{gather*}\n",
    "\\alpha_1 = \\frac{f(x_1) - p_{0}(x_1)}{(x_1 - x_0)} \\\\\\\\\n",
    "\\alpha_1 =  \\frac{-0,0945 -(-0,5000)}{(1,5000 - 1,0000)}\\\\\\\\\n",
    "\\alpha_1 = 0,8110 \\\\\\\\\n",
    "g_1(x) = 0,8110(x-1,0) = 0,8110x - 0,8110 \\\\\\\\\n",
    "p_1(x) = 0,8110x - 1,3110 \n",
    "\\end{gather*}\n"
   ]
  },
  {
   "cell_type": "markdown",
   "metadata": {},
   "source": [
    "Ou seja, a sequência de passos foi: achar o polinômio de grau 0 → achar o coeficiente $\\alpha_1$ do polinômio $g_1(x)$ → achar o polinômio $g_1(x)$ → achar o polinômio $p_1(x)$"
   ]
  },
  {
   "cell_type": "markdown",
   "metadata": {},
   "source": [
    "---"
   ]
  },
  {
   "cell_type": "markdown",
   "metadata": {},
   "source": [
    "<h1 style=\"color: orange; text-align:center\">Lista 1</h1> "
   ]
  },
  {
   "cell_type": "markdown",
   "metadata": {},
   "source": [
    "<h2 style=\"color: orange\">N° 1</h2> "
   ]
  },
  {
   "cell_type": "markdown",
   "metadata": {},
   "source": [
    "3 iterações do método da falsa posição → O erro é dado pela fórmula abaixo, e como todos intervalos (b-a) são 1:\n",
    "\\begin{gather*}\n",
    "\\varepsilon_{n+1} = \\frac{b - a}{2} = \\frac{1}{2} * \\frac{1}{2} * \\frac{1}{2} = \\frac{1}{8} = 0,1\n",
    "\\end{gather*}\n",
    "2 iterações do método de Newton → O erro é de ordem quadrática:\n",
    "\\begin{gather*}\n",
    "\\varepsilon_{n+1} = ((0,1)^2)^2 = 0,0001\n",
    "\\end{gather*}\n",
    "Assim, utilizaremos 6 casas decimais para que o erro de 4 casas decimais seja visível"
   ]
  },
  {
   "cell_type": "markdown",
   "metadata": {},
   "source": [
    "Os zeros (raízes) das funções e suas derivadas foram encontrados com wolfram alpha "
   ]
  },
  {
   "cell_type": "markdown",
   "metadata": {},
   "source": [
    "a) raiz de sen(x) é $\\pi$, derivada de sen(x) é cos(x) "
   ]
  },
  {
   "cell_type": "code",
   "execution_count": 10,
   "metadata": {},
   "outputs": [
    {
     "name": "stdout",
     "output_type": "stream",
     "text": [
      "Valor de pi com metodo da falsa posiçao:  3.14159\n",
      "Quantidade de loops executados:  3\n",
      "Valor de pi com o método de Newton:  3.14159\n",
      "Quantidade de loops executados:  2\n"
     ]
    }
   ],
   "source": [
    "import sympy as sp\n",
    "from sympy import *\n",
    "import numpy as np\n",
    "import math\n",
    "\n",
    "#extremo inferior no intervalo\n",
    "a = 3\n",
    "#extremo superior no intervalo\n",
    "b = 4\n",
    "#média ponderada do intervalo \n",
    "c = 0\n",
    "fa = 0\n",
    "fb = 0\n",
    "fc = 0\n",
    "qntloops = 0\n",
    "\n",
    "# 3 iteraçoes do metodo regula falsi\n",
    "while(qntloops < 3):\n",
    "\n",
    "    #funòao avaliada nos extremos: precisao de 6 casas decimais\n",
    "    fa = N(sin(a), 6);\n",
    "    fb = N(sin(b), 6);\n",
    "\n",
    "    #calculo da media ponderada\n",
    "    c = (fa*b - fb*a) / (fa - fb);\n",
    "    #funçao avaliada na media ponderada\n",
    "    fc = N(sin(c), 6);\n",
    "    \n",
    "    #se huve mudança de sinal de f(a) até f(c)\n",
    "    if(fc*fa < 0):\n",
    "\n",
    "        # c é o novo extremo superior \n",
    "        b = c\n",
    "\n",
    "    elif(fc == 0):\n",
    "\n",
    "        break\n",
    "\n",
    "    else:\n",
    "        \n",
    "        #se nao, c é o novo extremo inferior \n",
    "        a = c\n",
    "        \n",
    "    qntloops += 1\n",
    "    \n",
    "print(\"Valor de pi com metodo da falsa posiçao: \", c)\n",
    "print(\"Quantidade de loops executados: \", qntloops)\n",
    "\n",
    "qntloops = 0\n",
    "\n",
    "# 2 iteraçoes do metodo de newton\n",
    "while qntloops < 2:\n",
    "\n",
    "    # c é a raiz da reta tangente ao c anterior da funçao (na formula, seno é a funçao e cosseno é a derivada)\n",
    "    c = c - sp.N(sp.N(sp.sin(c), 6) / sp.N(sp.cos(c), 6), 6)\n",
    "    qntloops += 1\n",
    "\n",
    "print(\"Valor de pi com o método de Newton: \", c)\n",
    "print(\"Quantidade de loops executados: \", qntloops)"
   ]
  },
  {
   "cell_type": "markdown",
   "metadata": {},
   "source": [
    "b) raiz é $\\sqrt{e}$ e derivada é $\\frac{1}{x}$"
   ]
  },
  {
   "cell_type": "code",
   "execution_count": 4,
   "metadata": {},
   "outputs": [
    {
     "name": "stdout",
     "output_type": "stream",
     "text": [
      "Valor da raiz com metodo da falsa posiçao:  1.65199\n",
      "Quantidade de loops executados:  3\n",
      "Valor da raiz com o método de Newton:  1.64872\n",
      "Quantidade de loops executados:  2\n"
     ]
    }
   ],
   "source": [
    "import sympy as sp\n",
    "from sympy import *\n",
    "import numpy as np\n",
    "import math\n",
    "\n",
    "a = 1\n",
    "b = 2\n",
    "c = 0\n",
    "fa = 0\n",
    "fb = 0\n",
    "fc = 0\n",
    "qntloops = 0\n",
    "\n",
    "while(qntloops < 3):\n",
    "\n",
    "    fa = N(log(a) - 1/2, 6);\n",
    "    fb = N(log(b) - 1/2, 6);\n",
    "\n",
    "    c = (fa*b - fb*a) / (fa - fb);\n",
    "    fc = N(log(c) - 1/2, 6);\n",
    "\n",
    "    if(fc*fa < 0):\n",
    "\n",
    "        b = c\n",
    "\n",
    "    elif(fc == 0):\n",
    "\n",
    "        break\n",
    "\n",
    "    else:\n",
    "\n",
    "        a = c\n",
    "        \n",
    "    qntloops += 1\n",
    "    \n",
    "print(\"Valor da raiz com metodo da falsa posiçao: \", c)\n",
    "print(\"Quantidade de loops executados: \", qntloops)\n",
    "\n",
    "qntloops = 0\n",
    "\n",
    "while qntloops < 2:\n",
    "    c = c - sp.N(sp.N(log(c) - 1/2, 6) / sp.N(1/c, 6), 6)\n",
    "    qntloops += 1\n",
    "\n",
    "print(\"Valor da raiz com o método de Newton: \", c)\n",
    "print(\"Quantidade de loops executados: \", qntloops)"
   ]
  },
  {
   "cell_type": "markdown",
   "metadata": {},
   "source": [
    "c) a raiz a ser encontrada é $\\frac{5}{2}$ - $\\frac{\\sqrt{17}}{2}$ e a derivada é $2x - 5$"
   ]
  },
  {
   "cell_type": "code",
   "execution_count": 5,
   "metadata": {},
   "outputs": [
    {
     "name": "stdout",
     "output_type": "stream",
     "text": [
      "Valor da raiz com metodo da falsa posiçao:  0.439024\n",
      "Quantidade de loops executados:  3\n",
      "Valor da raiz com o método de Newton:  0.438447\n",
      "Quantidade de loops executados:  2\n"
     ]
    }
   ],
   "source": [
    "import sympy as sp\n",
    "from sympy import *\n",
    "import numpy as np\n",
    "import math\n",
    "\n",
    "a = 0\n",
    "b = 1\n",
    "c = 0\n",
    "fa = 0\n",
    "fb = 0\n",
    "fc = 0\n",
    "qntloops = 0\n",
    "\n",
    "while(qntloops < 3):\n",
    "\n",
    "    fa = N(a**2 - 5*a + 2, 6);\n",
    "    fb = N(b**2 - 5*b + 2, 6);\n",
    "\n",
    "    c = (fa*b - fb*a) / (fa - fb);\n",
    "    fc = N(c**2 - 5*c + 2, 6);\n",
    "\n",
    "    if(fc*fa < 0):\n",
    "\n",
    "        b = c\n",
    "\n",
    "    elif(fc == 0):\n",
    "\n",
    "        break\n",
    "\n",
    "    else:\n",
    "\n",
    "        a = c\n",
    "        \n",
    "    qntloops += 1\n",
    "    \n",
    "print(\"Valor da raiz com metodo da falsa posiçao: \", c)\n",
    "print(\"Quantidade de loops executados: \", qntloops)\n",
    "\n",
    "qntloops = 0\n",
    "\n",
    "while qntloops < 2:\n",
    "    c = c - sp.N(sp.N(c**2 - 5*c + 2, 6) / sp.N(2*c - 5, 6), 6)\n",
    "    qntloops += 1\n",
    "\n",
    "print(\"Valor da raiz com o método de Newton: \", c)\n",
    "print(\"Quantidade de loops executados: \", qntloops)"
   ]
  },
  {
   "cell_type": "markdown",
   "metadata": {},
   "source": [
    "d) a raiz a ser encontrada é $\\frac{5}{2}$ + $\\frac{\\sqrt{17}}{2}$ e a derivada é $2x - 5$"
   ]
  },
  {
   "cell_type": "code",
   "execution_count": 6,
   "metadata": {},
   "outputs": [
    {
     "name": "stdout",
     "output_type": "stream",
     "text": [
      "Valor da raiz com metodo da falsa posiçao:  4.56098\n",
      "Quantidade de loops executados:  3\n",
      "Valor da raiz com o método de Newton:  4.56155\n",
      "Quantidade de loops executados:  2\n"
     ]
    }
   ],
   "source": [
    "import sympy as sp\n",
    "from sympy import *\n",
    "import numpy as np\n",
    "import math\n",
    "\n",
    "a = 4\n",
    "b = 5\n",
    "c = 0\n",
    "fa = 0\n",
    "fb = 0\n",
    "fc = 0\n",
    "qntloops = 0\n",
    "\n",
    "while(qntloops < 3):\n",
    "\n",
    "    fa = N(a**2 - 5*a + 2, 6);\n",
    "    fb = N(b**2 - 5*b + 2, 6);\n",
    "\n",
    "    c = (fa*b - fb*a) / (fa - fb);\n",
    "    fc = N(c**2 - 5*c + 2, 6);\n",
    "\n",
    "    if(fc*fa < 0):\n",
    "\n",
    "        b = c\n",
    "\n",
    "    elif(fc == 0):\n",
    "\n",
    "        break\n",
    "\n",
    "    else:\n",
    "\n",
    "        a = c\n",
    "        \n",
    "    qntloops += 1\n",
    "    \n",
    "print(\"Valor da raiz com metodo da falsa posiçao: \", c)\n",
    "print(\"Quantidade de loops executados: \", qntloops)\n",
    "\n",
    "qntloops = 0\n",
    "\n",
    "while qntloops < 2:\n",
    "    c = c - sp.N(sp.N(c**2 - 5*c + 2, 6) / sp.N(2*c - 5, 6), 6)\n",
    "    qntloops += 1\n",
    "\n",
    "print(\"Valor da raiz com o método de Newton: \", c)\n",
    "print(\"Quantidade de loops executados: \", qntloops)"
   ]
  },
  {
   "cell_type": "markdown",
   "metadata": {},
   "source": [
    "<h2 style=\"color: orange\">N° 2</h2> "
   ]
  },
  {
   "cell_type": "code",
   "execution_count": 7,
   "metadata": {},
   "outputs": [
    {
     "name": "stdout",
     "output_type": "stream",
     "text": [
      "Valor da raiz com metodo da falsa posiçao:  0.438447\n",
      "Quantidade de loops executados:  6\n"
     ]
    }
   ],
   "source": [
    "import sympy as sp\n",
    "from sympy import *\n",
    "import numpy as np\n",
    "import math\n",
    "\n",
    "\n",
    "a = 0\n",
    "b = 1\n",
    "c = 0\n",
    "fa = 0\n",
    "fb = 0\n",
    "fc = 0\n",
    "qntloops = 0\n",
    "\n",
    "# enquanto c ainda nao atingir o mesmo valor encontrado no exercicio anterior pelo metodo de newton\n",
    "while(c != 0.438447):\n",
    "\n",
    "    fa = N(a**2 - 5*a + 2, 6);\n",
    "    fb = N(b**2 - 5*b + 2, 6);\n",
    "\n",
    "    c = (fa*b - fb*a) / (fa - fb);\n",
    "    fc = N(c**2 - 5*c + 2, 6);\n",
    "\n",
    "    if(fc*fa < 0):\n",
    "\n",
    "        b = c\n",
    "\n",
    "    elif(fc == 0):\n",
    "\n",
    "        break\n",
    "\n",
    "    else:\n",
    "\n",
    "        a = c\n",
    "        \n",
    "    qntloops += 1\n",
    "    \n",
    "print(\"Valor da raiz com metodo da falsa posiçao: \", c)\n",
    "print(\"Quantidade de loops executados: \", qntloops)"
   ]
  },
  {
   "cell_type": "markdown",
   "metadata": {},
   "source": [
    "<h2 style=\"color: orange\">N° 3</h2> "
   ]
  },
  {
   "cell_type": "code",
   "execution_count": 56,
   "metadata": {},
   "outputs": [
    {
     "name": "stdout",
     "output_type": "stream",
     "text": [
      "Polinomio:  -0.989992496600445*x - 0.00824993747167038*(x - 3)**5 + 0.0058800003358278*(x - 3)**4 + 0.164998749433408*(x - 3)**3 - 0.0705600040299336*(x - 3)**2 + 3.1110974978612 \n",
      "\n",
      "Raiz é:  3.14159265465441\n",
      "Quantidade de loops foi:  2\n"
     ]
    },
    {
     "data": {
      "image/png": "[encoded data removed]",
      "text/plain": [
       "<Figure size 640x480 with 1 Axes>"
      ]
     },
     "metadata": {},
     "output_type": "display_data"
    }
   ],
   "source": [
    "from matplotlib import pyplot as plt\n",
    "import sympy as sp\n",
    "from sympy import sin, exp, cos, lambdify, factorial\n",
    "from sympy.abc import x\n",
    "import numpy as np\n",
    "import math\n",
    "\n",
    "#centro de série\n",
    "s = 3\n",
    "\n",
    "#numero de termos desejados (grau do polinomio desejado + 1)\n",
    "n = 6\n",
    "\n",
    "#funçao\n",
    "def f(x): \n",
    "    return sin(x)\n",
    "\n",
    "#polinomio\n",
    "pol = 0;\n",
    "#funçao\n",
    "fun = f(x);\n",
    "\n",
    "#encontrar polinomio de taylor\n",
    "# i é a grau de cada termo: vai de 0 a n\n",
    "for i in range(n):\n",
    "    #polinomio recebe o termo anterior mais o proximo termo que é: a funçao avaliada em s dividida por i fatorial (coeficiente),\n",
    "    #tudo isso multiplicado por (x - s)^i\n",
    "    pol += fun.evalf(subs={x: s}) * (x - s)**i / math.factorial(i)\n",
    "    # a proxima funçao a ser considerada no calculo do coeficiente é a derivada da anterior\n",
    "    fun = sp.diff(fun,x)\n",
    "\n",
    "#imprimindo polinomio resultante \n",
    "print(\"Polinomio: \", pol, \"\\n\")\n",
    "\n",
    "#encontrado raiz do polinomio pelo méetodo de newton partindo do centro de série (s)\n",
    "c = s;\n",
    "fc = 0;\n",
    "derc = 0; \n",
    "B = 0.0001;\n",
    "i = 0\n",
    "\n",
    "while(i < 100):\n",
    "    fc = pol.evalf(subs={x: c})\n",
    "    derc = sp.diff(pol,x).evalf(subs={x: c})\n",
    "    c = c - fc/derc\n",
    "    i += 1;\n",
    "\n",
    "    if(fc < 0.0001):\n",
    "        break\n",
    "\n",
    "print(\"Raiz é: \", c);\n",
    "print(\"Quantidade de loops foi: \", i)\n",
    "\n",
    "\n",
    "#convertendo objetos sympy para numpy\n",
    "pol = lambdify(x, pol, modules=['numpy'])\n",
    "function = lambdify(x, f(x), modules=['numpy'])\n",
    "\n",
    "#limites dos eixos x e y\n",
    "x_axis = np.linspace(s-3, s+3, 1000)\n",
    "y = pol(x_axis)\n",
    "z = function(x_axis)\n",
    "ponto_s = (s, f(s))\n",
    "ponto_c = (c, pol(c))\n",
    "\n",
    "#imprimindo grafico\n",
    "plt.plot(x_axis, y, color='r', label='Pn(x)')\n",
    "plt.plot(x_axis, z, color='b', label='f(x)')\n",
    "plt.scatter(*ponto_s, color='green', label='centro da série')\n",
    "plt.scatter(*ponto_c, color='purple', label='raiz do polinomio')\n",
    "plt.annotate('centro da série', xy=ponto_s, xytext=(3, 0.5),\n",
    "             arrowprops=dict(arrowstyle='->', color='green'))\n",
    "plt.annotate('raiz do polinomio', xy=ponto_c, xytext=(2, -0.5),\n",
    "             arrowprops=dict(arrowstyle='->', color='purple'))\n",
    "\n",
    "plt.legend()\n",
    "\n",
    "plt.show()"
   ]
  },
  {
   "cell_type": "markdown",
   "metadata": {},
   "source": [
    "Pode-se perceber que, calculando a raiz do polinômio pelo método de newton partindo do centro de série s, chega-se a um valor próximo a $\\pi$, que também é a raiz da função seno aproximada pelo polinomio."
   ]
  },
  {
   "cell_type": "markdown",
   "metadata": {},
   "source": [
    "<h2 style=\"color: orange\">N° 4</h2> "
   ]
  },
  {
   "cell_type": "code",
   "execution_count": 20,
   "metadata": {},
   "outputs": [
    {
     "name": "stdin",
     "output_type": "stream",
     "text": [
      "Digite o valor de x (ou qualquer outra entrada para parar):  1\n",
      "Digite o valor de y (ou qualquer outra entrada para parar):  -1\n",
      "Digite o valor de x (ou qualquer outra entrada para parar):  2\n",
      "Digite o valor de y (ou qualquer outra entrada para parar):  2\n",
      "Digite o valor de x (ou qualquer outra entrada para parar):  3\n",
      "Digite o valor de y (ou qualquer outra entrada para parar):  7\n",
      "Digite o valor de x (ou qualquer outra entrada para parar):  n\n"
     ]
    },
    {
     "name": "stdout",
     "output_type": "stream",
     "text": [
      "1.0*x**2 - 2.0\n"
     ]
    },
    {
     "data": {
      "image/png": "[encoded data removed]",
      "text/plain": [
       "<Figure size 640x480 with 1 Axes>"
      ]
     },
     "metadata": {},
     "output_type": "display_data"
    }
   ],
   "source": [
    "from matplotlib import pyplot as plt\n",
    "import sympy as sp\n",
    "from sympy.abc import x\n",
    "import numpy as np\n",
    "import math\n",
    "\n",
    "# Listas para armazenar os pontos x e y\n",
    "pontos_x = []\n",
    "pontos_y = []\n",
    "\n",
    "# Solicitar ao usuário que insira os valores x e y até que deseje parar\n",
    "while True:\n",
    "    try:\n",
    "        nx = float(input(\"Digite o valor de x (ou qualquer outra entrada para parar): \"))\n",
    "        ny = float(input(\"Digite o valor de y (ou qualquer outra entrada para parar): \"))\n",
    "        \n",
    "        pontos_x.append(nx)\n",
    "        pontos_y.append(ny)\n",
    "        \n",
    "    except ValueError:\n",
    "        # O usuário digitou algo que não é um número, encerramos a coleta\n",
    "        break\n",
    "\n",
    "# Verificar se há pontos coletados\n",
    "if len(pontos_x) > 0:\n",
    "\n",
    "    #polinomio\n",
    "    p = 0\n",
    "    #base de lagrange \n",
    "    l = 1\n",
    "\n",
    "    #Para calcular o somatorio dos termos do polinomio: fazendo um loop nos pontos (x,y). Cada k é x do ponto e cada y é y do ponto\n",
    "    for k, y in zip(pontos_x, pontos_y):\n",
    "\n",
    "        #Para calcular o produtorio L de cada termo: loop nos valores x. Cada i é x do ponto\n",
    "        for i in pontos_x:\n",
    "            # se x for diferente do x do termo do polinomio (denominador nao pode ser 0)\n",
    "            if(i != k):\n",
    "                # L recebe o L anterior veze so novo\n",
    "                l *= (x - i)/(k - i)\n",
    "        p += l*y\n",
    "        l = 1\n",
    "        \n",
    "    p = sp.simplify(p)\n",
    "\n",
    "    #imprimindo polinomio\n",
    "    print(p)\n",
    "    \n",
    "    #convertendo objetos sympy para numpy\n",
    "    p = lambdify(x, p, modules=['numpy'])\n",
    "    \n",
    "    #limites dos eixos x e y\n",
    "    x_axis = np.linspace(-10, 10, 1000)\n",
    "    y = p(x_axis)\n",
    "\n",
    "    #grafico de dispersao dos pontos inseridos\n",
    "    plt.scatter(pontos_x, pontos_y)\n",
    "    \n",
    "    #imprimindo grafico\n",
    "    plt.plot(x_axis, y, color='r', label='Pn(x)')\n",
    "    \n",
    "    plt.legend()\n",
    "    \n",
    "    plt.show()\n",
    "    \n",
    "else:\n",
    "    print(\"Nenhum ponto foi coletado.\")"
   ]
  },
  {
   "cell_type": "markdown",
   "metadata": {},
   "source": [
    "---"
   ]
  },
  {
   "cell_type": "markdown",
   "metadata": {},
   "source": [
    "<h1 style=\"color: purple; text-align:center\">Diferenciação e Integração Numérica</h1> "
   ]
  },
  {
   "cell_type": "markdown",
   "metadata": {},
   "source": [
    "\\begin{gather*}\n",
    "f'(x) = lim_{h \\rightarrow 0} \\frac{f(x+h)-f(x)}{h} \\\\\n",
    "f'(x_0) = lim_{x \\rightarrow x_0} \\frac{f(x)-f(x_0)}{x - x_0}\n",
    "\\end{gather*}"
   ]
  },
  {
   "cell_type": "markdown",
   "metadata": {},
   "source": [
    "\\begin{gather*}\n",
    "\\int_{a}^{b} f(x)dx = F(b) - F(a), & F'(x) = f(x) & \\forall x \\in (a,b)\n",
    "\\end{gather*}"
   ]
  },
  {
   "cell_type": "markdown",
   "metadata": {},
   "source": [
    "Divisão na derivada - propagação de erros "
   ]
  },
  {
   "cell_type": "markdown",
   "metadata": {},
   "source": [
    "<h2 style=\"color: purple;\">Derivação</h2> \n",
    "<h3 style=\"color: purple;\">Aproximação imediata para a derivada</h3> "
   ]
  },
  {
   "cell_type": "markdown",
   "metadata": {},
   "source": [
    "Objetivo: a partir de um conjunto de pontos, achar a derivada naqueles pontos. Considerando pontos igualmente espaçados (espaçamento h):"
   ]
  },
  {
   "cell_type": "markdown",
   "metadata": {},
   "source": [
    "<img src=\"derivada.png\" width=\"500px\">"
   ]
  },
  {
   "cell_type": "markdown",
   "metadata": {},
   "source": [
    "\\begin{gather*}\n",
    "f(x_i) = f_i \\\\\n",
    "f'(x_i)= f_i' = lim_{h \\rightarrow 0} \\frac{f(x_i+h)-f(x_i)}{h} \\\\\n",
    "\\end{gather*}"
   ]
  },
  {
   "cell_type": "markdown",
   "metadata": {},
   "source": [
    "Partindo da definição de derivada, se arbitrarmos h para um valor qualquer, obtemos a seguinte expressão:"
   ]
  },
  {
   "cell_type": "markdown",
   "metadata": {},
   "source": [
    "\\begin{equation*}\n",
    "f_i' = \\frac{f_{i+1}-f_i}{h} \n",
    "\\end{equation*}"
   ]
  },
  {
   "cell_type": "markdown",
   "metadata": {},
   "source": [
    "\\begin{gather*}\n",
    "f_0' = \\frac{f_{1}-f_0}{h} && f_1' = \\frac{f_{2}-f_1}{h} && f_2' = \\frac{f_{3}-f_2}{h} && f_3' = \\frac{f_{2}-f_3}{-h} \n",
    "\\end{gather*}"
   ]
  },
  {
   "cell_type": "markdown",
   "metadata": {},
   "source": [
    "Na última expressão, $x_2$ se aproxima de $x_3$ (pela esquerda)"
   ]
  },
  {
   "cell_type": "markdown",
   "metadata": {},
   "source": [
    "<h3 style=\"color: purple;\">Aproximação de Lagrange</h3> "
   ]
  },
  {
   "cell_type": "markdown",
   "metadata": {},
   "source": [
    "Com o mesmo objetivo da aproximação anterior, encontramos um polinômio de Lagrange de 2° grau que interpole a função nos pontos fornecidos, a derivada desse polinômio em cada ponto aproxima a derivada da função em cada ponto"
   ]
  },
  {
   "cell_type": "markdown",
   "metadata": {},
   "source": [
    "\\begin{gather*}\n",
    "Pn_2(x_0) =  f(x_0)\\\\\n",
    "Pn_2(x_1) =  f(x_1)\\\\\n",
    "Pn_2(x_2) =  f(x_2)\n",
    "\\end{gather*}"
   ]
  },
  {
   "cell_type": "markdown",
   "metadata": {},
   "source": [
    "Primeiro, derivamos as bases L de Lagrange:"
   ]
  },
  {
   "cell_type": "markdown",
   "metadata": {},
   "source": [
    "\\begin{gather*}\n",
    "l_0(x) = \\frac{(x - x_1)(x - x_2)}{(x_0 - x_1)(x_0 - x_2)} = \\frac{(x - x_1)(x - x_2)}{(-h)(-2h)}  = \\frac{(x - x_1)(x - x_2)}{2h^2} \\\\\n",
    "l_0(x)' = \\frac{(2x - (x_2 + x_1))}{2h^2}\\\\\\\\\n",
    "l_1(x) = \\frac{(x - x_0)(x - x_2)}{(x_1 - x_0)(x_1 - x_2)} = \\frac{(x - x_0)(x - x_2)}{(h)(-h)}  = \\frac{(x - x_0)(x - x_2)}{-h^2}\\\\\n",
    "l_1(x)' = \\frac{(2x - x_0 - x_2)}{h^2}\\\\\\\\\n",
    "l_2(x) = \\frac{(x - x_0)(x - x_1)}{(x_2 - x_0)(x_2 - x_1)} = \\frac{(x - x_0)(x - x_1)}{(2h)(h)} = \\frac{(x - x_0)(x - x_1)}{2h^2}\\\\\n",
    "l_2(x)' = \\frac{(2x - x_0 - x_1)}{2h^2}\\\\\\\\\n",
    "\\end{gather*}"
   ]
  },
  {
   "cell_type": "markdown",
   "metadata": {},
   "source": [
    "\\begin{equation*} f'(x) = l_0'(x)f(x_0) + l_1'(x)f(x_1) + l_2'(x)f(x_2) \\end{equation*}"
   ]
  },
  {
   "cell_type": "markdown",
   "metadata": {},
   "source": [
    "Derivada no extremo esquerdo:"
   ]
  },
  {
   "cell_type": "markdown",
   "metadata": {},
   "source": [
    "\\begin{equation*} f'(x_0) = l_0'(x_0)f(x_0) + l_1'(x_0)f(x_1) + l_2'(x_0)f(x_2) \\end{equation*}"
   ]
  },
  {
   "cell_type": "markdown",
   "metadata": {},
   "source": [
    "\\begin{equation*} f_0' = \\frac{-3f_0 + 4f_1 - f_2}{2h} \\end{equation*}"
   ]
  },
  {
   "cell_type": "markdown",
   "metadata": {},
   "source": [
    "Derivada em todos os pontos intermediários:"
   ]
  },
  {
   "cell_type": "markdown",
   "metadata": {},
   "source": [
    "\\begin{equation*} f_1' = \\frac{f_2 - f_0}{2h} \\end{equation*}"
   ]
  },
  {
   "cell_type": "markdown",
   "metadata": {},
   "source": [
    "Derivada no extremo direito:"
   ]
  },
  {
   "cell_type": "markdown",
   "metadata": {},
   "source": [
    "\\begin{equation*} f_2' = \\frac{f_0 - 4f_1 + 3f_2}{2h} \\end{equation*}"
   ]
  },
  {
   "cell_type": "code",
   "execution_count": 1,
   "metadata": {},
   "outputs": [
    {
     "name": "stdin",
     "output_type": "stream",
     "text": [
      "Digite o valor de espaçamento entre os pontos:  n\n"
     ]
    },
    {
     "ename": "ValueError",
     "evalue": "could not convert string to float: 'n'",
     "output_type": "error",
     "traceback": [
      "\u001b[0;31m---------------------------------------------------------------------------\u001b[0m",
      "\u001b[0;31mValueError\u001b[0m                                Traceback (most recent call last)",
      "Cell \u001b[0;32mIn[1], line 12\u001b[0m\n\u001b[1;32m      9\u001b[0m pontos_x \u001b[38;5;241m=\u001b[39m []\n\u001b[1;32m     10\u001b[0m pontos_y \u001b[38;5;241m=\u001b[39m []\n\u001b[0;32m---> 12\u001b[0m h \u001b[38;5;241m=\u001b[39m \u001b[38;5;28;43mfloat\u001b[39;49m\u001b[43m(\u001b[49m\u001b[38;5;28;43minput\u001b[39;49m\u001b[43m(\u001b[49m\u001b[38;5;124;43m\"\u001b[39;49m\u001b[38;5;124;43mDigite o valor de espaçamento entre os pontos: \u001b[39;49m\u001b[38;5;124;43m\"\u001b[39;49m\u001b[43m)\u001b[49m\u001b[43m)\u001b[49m\n\u001b[1;32m     13\u001b[0m nx \u001b[38;5;241m=\u001b[39m \u001b[38;5;28mfloat\u001b[39m(\u001b[38;5;28minput\u001b[39m(\u001b[38;5;124m\"\u001b[39m\u001b[38;5;124mDigite o valor do primeiro x: \u001b[39m\u001b[38;5;124m\"\u001b[39m))\n\u001b[1;32m     14\u001b[0m ny \u001b[38;5;241m=\u001b[39m \u001b[38;5;28minput\u001b[39m(\u001b[38;5;124m\"\u001b[39m\u001b[38;5;124mDigite o valor de y correspondente(ou N para parar): \u001b[39m\u001b[38;5;124m\"\u001b[39m)\n",
      "\u001b[0;31mValueError\u001b[0m: could not convert string to float: 'n'"
     ]
    }
   ],
   "source": [
    "from matplotlib import pyplot as plt\n",
    "import sympy as sp\n",
    "from sympy import lambdify\n",
    "from sympy.abc import x\n",
    "import numpy as np\n",
    "import math\n",
    "\n",
    "# Listas para armazenar os pontos x e y\n",
    "pontos_x = []\n",
    "pontos_y = []\n",
    "\n",
    "h = float(input(\"Digite o valor de espaçamento entre os pontos: \"))\n",
    "nx = float(input(\"Digite o valor do primeiro x: \"))\n",
    "ny = input(\"Digite o valor de y correspondente(ou N para parar): \")\n",
    "\n",
    "pontos_x.append(nx)\n",
    "pontos_y.append(float(ny))\n",
    "\n",
    "# Solicitar ao usuário que insira os valores x e y até que deseje parar\n",
    "while (ny != 'N'):\n",
    "    \n",
    "    nx += h \n",
    "    print(\"Valor de x: \", nx)\n",
    "    ny = input(\"Digite o valor de y: \")\n",
    "    \n",
    "    if(ny != 'N'):\n",
    "        pontos_x.append(nx)\n",
    "        pontos_y.append(float(ny))\n",
    "    \n",
    "\n",
    "# Verificar se há pontos coletados\n",
    "if len(pontos_x) > 0:\n",
    "\n",
    "    #indice de x \n",
    "    a = 0\n",
    "\n",
    "    vetorDerivadas = [];\n",
    "    \n",
    "    while(a < len(pontos_x) - 2):\n",
    "        print(pontos_y[a], pontos_y[a+1], pontos_y[a+2])\n",
    "        vetorDerivadas.insert(a,(((-3)*(pontos_y[a]) + 4*(pontos_y[a+1]) - (pontos_y[a+2]))/2*h))\n",
    "        vetorDerivadas.insert(a+1,((pontos_y[a+2] - pontos_y[a])/2*h))\n",
    "        vetorDerivadas.insert(a+2,((pontos_y[a] - 4*(pontos_y[a+1] + 3*(pontos_y[a+2]))/2*h)))\n",
    "        a += 1\n",
    "\n",
    "    #imprimindo derivada dos pontos\n",
    "    for der in vetorDerivadas:\n",
    "        print(der, \"\\n\")\n",
    "    \n",
    "else:\n",
    "    print(\"Nenhum ponto foi coletado.\")"
   ]
  },
  {
   "cell_type": "markdown",
   "metadata": {},
   "source": [
    "<h2 style=\"color: purple;\">Integração</h2> \n",
    "<h3 style=\"color: purple;\">Regra Retangular</h3> "
   ]
  },
  {
   "cell_type": "markdown",
   "metadata": {},
   "source": [
    "\\begin{gather*}\n",
    "\\int_{a}^{b} f(x)dx = F(b) - F(a), & F'(x) = f(x) & \\forall x \\in (a,b)\n",
    "\\end{gather*}"
   ]
  },
  {
   "cell_type": "markdown",
   "metadata": {},
   "source": [
    "<img src=\"integral.png\" width=\"600px\">"
   ]
  },
  {
   "cell_type": "markdown",
   "metadata": {},
   "source": [
    "Primeira aproximação possível: média das áreas dos 2 retângulos"
   ]
  },
  {
   "cell_type": "markdown",
   "metadata": {},
   "source": [
    "\\begin{gather*}\n",
    "\\int_{a}^{b} f(x)dx = f(a)(b - a) \\\\\n",
    "\\int_{a}^{b} f(x)dx = f(b)(b - a) \\\\\n",
    "\\downarrow\\\\\n",
    "\\int_{a}^{b} f(x)dx = \\frac{[f(a) + f(b)]}{2}(b - a)\n",
    "\\end{gather*}"
   ]
  },
  {
   "cell_type": "markdown",
   "metadata": {},
   "source": [
    "Uma aproximaçao melhor: considerando o ponto médio c entre a e b:"
   ]
  },
  {
   "cell_type": "markdown",
   "metadata": {},
   "source": [
    "\\begin{gather*}\n",
    "\\int_{a}^{b} f(x)dx = \\frac{[f(a) + f(c)]}{2}(c - a) + \\frac{[f(c) + f(b)]}{2}(b - c)\n",
    "\\end{gather*}"
   ]
  },
  {
   "cell_type": "markdown",
   "metadata": {},
   "source": [
    "Mas, (c - a) = (b - c) = $\\frac{b - a}{2}$ (olhar figura)"
   ]
  },
  {
   "cell_type": "markdown",
   "metadata": {},
   "source": [
    "\\begin{gather*}\n",
    "\\int_{a}^{b} f(x)dx = \\frac{f(a) + 2f(c) + f(b)}{2} . \\frac{b-a}{2}\n",
    "\\end{gather*}"
   ]
  },
  {
   "cell_type": "markdown",
   "metadata": {},
   "source": [
    "Agora, se dividirmos o intervalo em 3:"
   ]
  },
  {
   "cell_type": "markdown",
   "metadata": {},
   "source": [
    "\\begin{gather*}\n",
    "\\int_{a}^{b} f(x)dx = \\frac{f(a) + 2f(c_1) + 2f(c_2) + f(b)}{2} . \\frac{b-a}{3}\n",
    "\\end{gather*}"
   ]
  },
  {
   "cell_type": "markdown",
   "metadata": {},
   "source": [
    "Em geral:"
   ]
  },
  {
   "cell_type": "markdown",
   "metadata": {},
   "source": [
    "\\begin{gather*}\n",
    "\\int_{a}^{b} f(x)dx = \\frac{f(a) + 2f(c_1) + 2f(c_2) + ... + 2f(c_{n-1})+ f(b)}{2} . \\frac{b-a}{n}\n",
    "\\end{gather*}"
   ]
  },
  {
   "cell_type": "markdown",
   "metadata": {},
   "source": [
    "Onde \"n\" é o número de subdivisões realizadas"
   ]
  },
  {
   "cell_type": "markdown",
   "metadata": {},
   "source": [
    "$h = \\frac{b-a}{h}$ é o passo de integração, ou seja, o tamanho de cada subintervalo"
   ]
  },
  {
   "cell_type": "markdown",
   "metadata": {},
   "source": [
    "\\begin{gather*}\n",
    "c_1 = a + h \\\\\n",
    "c_2 = a + 2h \\\\\n",
    "c_{n - 1} = a + (n - 1)h\n",
    "\\end{gather*}"
   ]
  }
 ],
 "metadata": {
  "kernelspec": {
   "display_name": "myenv",
   "language": "python",
   "name": "myenv"
  },
  "language_info": {
   "codemirror_mode": {
    "name": "ipython",
    "version": 3
   },
   "file_extension": ".py",
   "mimetype": "text/x-python",
   "name": "python",
   "nbconvert_exporter": "python",
   "pygments_lexer": "ipython3",
   "version": "3.11.4"
  }
 },
 "nbformat": 4,
 "nbformat_minor": 4
}
